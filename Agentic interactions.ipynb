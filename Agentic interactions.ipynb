{
 "cells": [
  {
   "cell_type": "code",
   "execution_count": 1,
   "metadata": {},
   "outputs": [
    {
     "data": {
      "text/plain": [
       "True"
      ]
     },
     "execution_count": 1,
     "metadata": {},
     "output_type": "execute_result"
    }
   ],
   "source": [
    "import os\n",
    "from dotenv import load_dotenv\n",
    "load_dotenv()\n"
   ]
  },
  {
   "cell_type": "code",
   "execution_count": 2,
   "metadata": {},
   "outputs": [],
   "source": [
    "assert(os.environ.get(\"NOTION_TOKEN\") is not None)\n",
    "token_v2 = os.environ.get(\"NOTION_TOKEN\")\n",
    "parent_page_url_or_id = \"https://www.notion.so/ezwalk/Example-usage-of-1ad592a303528014899bde92b5d12147?pvs=4\""
   ]
  },
  {
   "cell_type": "code",
   "execution_count": 3,
   "metadata": {},
   "outputs": [
    {
     "name": "stderr",
     "output_type": "stream",
     "text": [
      "/Users/ethanwalker/Documents/Projects/notion-py/notion/monitor.py:32: SyntaxWarning: invalid escape sequence '\\d'\n",
      "  for ping in re.findall('\\d+:\\d+\"primus::ping::\\d+\"', thing):\n",
      "/Users/ethanwalker/Documents/Projects/notion-py/notion/monitor.py:37: SyntaxWarning: invalid escape sequence '\\d'\n",
      "  for blob in re.findall(\"\\d+:\\d+(\\{.*?\\})(?=\\d|$)\", thing):\n",
      "/Users/ethanwalker/Documents/Projects/notion-py/notion/monitor.py:188: SyntaxWarning: invalid escape sequence '\\:'\n",
      "  match = re.match(\"versions/([^\\:]+):(.+)\", key)\n"
     ]
    }
   ],
   "source": [
    "from datetime import datetime\n",
    "\n",
    "from notion.client import *\n",
    "from notion.block import *\n",
    "from notion.collection import NotionDate"
   ]
  },
  {
   "cell_type": "markdown",
   "metadata": {},
   "source": [
    "## Client Setup"
   ]
  },
  {
   "cell_type": "code",
   "execution_count": 4,
   "metadata": {},
   "outputs": [
    {
     "name": "stdout",
     "output_type": "stream",
     "text": [
      "{'ethan@zwconsultingllc.net': 'ce4dc927-a7aa-4611-bebe-6eb7939c94ea', 'rocketwalker@gmail.com': '59164cd3-f8de-49dc-a432-e8cb48b4a39d', 'donna@zwconsultingllc.net': '133d872b-594c-810c-b916-000287c87f08'}\n"
     ]
    }
   ],
   "source": [
    "client = NotionClient(token_v2=token_v2)\n",
    "# Test the client\n",
    "print(client.get_email_uid())"
   ]
  },
  {
   "cell_type": "markdown",
   "metadata": {},
   "source": [
    "## Page Setup"
   ]
  },
  {
   "cell_type": "code",
   "execution_count": 61,
   "metadata": {},
   "outputs": [
    {
     "name": "stdout",
     "output_type": "stream",
     "text": [
      "id='1ad592a3-0352-8014-899b-de92b5d12147', title='Notion-py Smoke Tests'\n",
      "Created base smoke test page at: https://www.notion.so/dbaf23bd663f4a6ebd15dede09f9e237\n"
     ]
    }
   ],
   "source": [
    "parent_page = client.get_block(parent_page_url_or_id)\n",
    "print(parent_page)\n",
    "page = parent_page.children.add_new(\n",
    "\tPageBlock,\n",
    "\ttitle=\"Smoke test at {}\".format(datetime.now().strftime(\"%Y-%m-%d %H:%M:%S\")),\n",
    ")\n",
    "\n",
    "print(\"Created base smoke test page at:\", page.get_browseable_url())"
   ]
  },
  {
   "cell_type": "markdown",
   "metadata": {},
   "source": [
    "### Basic Blocks"
   ]
  },
  {
   "cell_type": "code",
   "execution_count": 52,
   "metadata": {},
   "outputs": [],
   "source": [
    "col_list = page.children.add_new(ColumnListBlock)\n",
    "col1 = col_list.children.add_new(ColumnBlock)\n",
    "col2 = col_list.children.add_new(ColumnBlock)\n",
    "col1kid = col1.children.add_new(\n",
    "\tTextBlock, title=\"Some formatting: *italic*, **bold**, ***both***!\"\n",
    ")\n",
    "assert (\n",
    "\tcol1kid.title.replace(\"_\", \"*\")\n",
    "\t== \"Some formatting: *italic*, **bold**, ***both***!\"\n",
    ")\n",
    "assert col1kid.title_plaintext == \"Some formatting: italic, bold, both!\""
   ]
  },
  {
   "cell_type": "markdown",
   "metadata": {},
   "source": [
    "### To-Do Blocks"
   ]
  },
  {
   "cell_type": "code",
   "execution_count": 53,
   "metadata": {},
   "outputs": [
    {
     "data": {
      "text/plain": [
       "<TodoBlock (id='830ab387-4a67-467c-8487-ead38a66be79', title='I should be checked', checked=True)>"
      ]
     },
     "execution_count": 53,
     "metadata": {},
     "output_type": "execute_result"
    }
   ],
   "source": [
    "col2.children.add_new(TodoBlock, title=\"I should be unchecked\")\n",
    "col2.children.add_new(TodoBlock, title=\"I should be checked\", checked=True)"
   ]
  },
  {
   "cell_type": "markdown",
   "metadata": {},
   "source": [
    "### Video Blocks"
   ]
  },
  {
   "cell_type": "code",
   "execution_count": 18,
   "metadata": {},
   "outputs": [],
   "source": [
    "page = client.get_block(\"Page URL or ID\")\n",
    "page.children.add_new(HeaderBlock, title=\"The finest music:\")\n",
    "video = page.children.add_new(VideoBlock, width=100)\n",
    "video.set_source_url(\"https://www.youtube.com/watch?v=oHg5SJYRHA0\")"
   ]
  },
  {
   "cell_type": "code",
   "execution_count": 19,
   "metadata": {},
   "outputs": [],
   "source": [
    "assert video in page.children\n",
    "assert col_list in page.children\n",
    "assert video in page.children.filter(VideoBlock)\n",
    "assert col_list not in page.children.filter(VideoBlock)"
   ]
  },
  {
   "cell_type": "markdown",
   "metadata": {},
   "source": [
    "### Callouts"
   ]
  },
  {
   "cell_type": "code",
   "execution_count": 20,
   "metadata": {},
   "outputs": [
    {
     "data": {
      "text/plain": [
       "<CalloutBlock (id='a67e9fb1-2985-4c21-b6e7-127a3ef9abb9', title='I am a callout')>"
      ]
     },
     "execution_count": 20,
     "metadata": {},
     "output_type": "execute_result"
    }
   ],
   "source": [
    "page.children.add_new(CalloutBlock, title=\"I am a callout\", icon=\"🤞\")\n"
   ]
  },
  {
   "cell_type": "markdown",
   "metadata": {},
   "source": [
    "### Mentions, Links and Backlinking"
   ]
  },
  {
   "cell_type": "code",
   "execution_count": 21,
   "metadata": {},
   "outputs": [],
   "source": [
    "# check that the parent does not yet consider this page to be backlinking\n",
    "assert page not in parent_page.get_backlinks()\n"
   ]
  },
  {
   "cell_type": "code",
   "execution_count": 22,
   "metadata": {},
   "outputs": [
    {
     "data": {
      "text/plain": [
       "<QuoteBlock (id='fe8bd6a4-a648-4e2b-853f-5c3d467fe1ed', title='Clicking [here](https://www.notion.so/1ad592a303528014899bde92b5d12147) should take you to the same place...')>"
      ]
     },
     "execution_count": 22,
     "metadata": {},
     "output_type": "execute_result"
    }
   ],
   "source": [
    "page.children.add_new(SubheaderBlock, title=\"A link back to where I came from:\")\n",
    "alias = page.children.add_alias(parent_page)\n",
    "assert alias.is_alias\n",
    "assert not page.is_alias\n",
    "page.children.add_new(\n",
    "\tQuoteBlock,\n",
    "\ttitle=\"Clicking [here]({}) should take you to the same place...\".format(\n",
    "\t\tpage.parent.get_browseable_url()\n",
    "\t),\n",
    ")"
   ]
  },
  {
   "cell_type": "code",
   "execution_count": 25,
   "metadata": {},
   "outputs": [
    {
     "ename": "AssertionError",
     "evalue": "",
     "output_type": "error",
     "traceback": [
      "\u001b[31m---------------------------------------------------------------------------\u001b[39m",
      "\u001b[31mAssertionError\u001b[39m                            Traceback (most recent call last)",
      "\u001b[36mCell\u001b[39m\u001b[36m \u001b[39m\u001b[32mIn[25]\u001b[39m\u001b[32m, line 2\u001b[39m\n\u001b[32m      1\u001b[39m \u001b[38;5;66;03m# check that the parent now knows about the backlink\u001b[39;00m\n\u001b[32m----> \u001b[39m\u001b[32m2\u001b[39m \u001b[38;5;28;01massert\u001b[39;00m page \u001b[38;5;129;01min\u001b[39;00m parent_page.get_backlinks()\n",
      "\u001b[31mAssertionError\u001b[39m: "
     ]
    }
   ],
   "source": [
    "# check that the parent now knows about the backlink\n",
    "assert page in parent_page.get_backlinks()"
   ]
  },
  {
   "cell_type": "code",
   "execution_count": 25,
   "metadata": {},
   "outputs": [],
   "source": [
    "# ensure __repr__ methods are not breaking\n",
    "repr(page)\n",
    "repr(page.children)\n",
    "for child in page.children:\n",
    "\trepr(child)\n"
   ]
  },
  {
   "cell_type": "markdown",
   "metadata": {},
   "source": [
    "### Moving blocks"
   ]
  },
  {
   "cell_type": "code",
   "execution_count": 31,
   "metadata": {},
   "outputs": [],
   "source": [
    "page.children.add_new(\n",
    "\tSubheaderBlock, title=\"The order of the following should be alphabetical:\"\n",
    ")\n",
    "\n",
    "B = page.children.add_new(BulletedListBlock, title=\"B\")\n",
    "D = page.children.add_new(BulletedListBlock, title=\"D\")\n",
    "C2 = page.children.add_new(BulletedListBlock, title=\"C2\")\n",
    "C1 = page.children.add_new(BulletedListBlock, title=\"C1\")\n",
    "C = page.children.add_new(BulletedListBlock, title=\"C\")\n",
    "A = page.children.add_new(BulletedListBlock, title=\"A\")\n",
    "\n",
    "D.move_to(C, \"after\")\n",
    "A.move_to(B, \"before\")\n",
    "C2.move_to(C)\n",
    "C1.move_to(C, \"first-child\")\n"
   ]
  },
  {
   "cell_type": "markdown",
   "metadata": {},
   "source": [
    "### Collections"
   ]
  },
  {
   "cell_type": "markdown",
   "metadata": {},
   "source": [
    "#### Create a collection and a view"
   ]
  },
  {
   "cell_type": "code",
   "execution_count": 28,
   "metadata": {},
   "outputs": [],
   "source": [
    "def get_collection_schema():\n",
    "    return {\n",
    "        \"%9:q\": {\"name\": \"Check Yo'self\", \"type\": \"checkbox\"},\n",
    "        \"=d{|\": {\n",
    "            \"name\": \"Tags\",\n",
    "            \"type\": \"multi_select\",\n",
    "            \"options\": [\n",
    "                {\n",
    "                    \"color\": \"orange\",\n",
    "                    \"id\": \"79560dab-c776-43d1-9420-27f4011fcaec\",\n",
    "                    \"value\": \"A\",\n",
    "                },\n",
    "                {\n",
    "                    \"color\": \"default\",\n",
    "                    \"id\": \"002c7016-ac57-413a-90a6-64afadfb0c44\",\n",
    "                    \"value\": \"B\",\n",
    "                },\n",
    "            ],\n",
    "        },\n",
    "        \"=d{q\": {\n",
    "            \"name\": \"Category\",\n",
    "            \"type\": \"select\",\n",
    "            \"options\": [\n",
    "                {\n",
    "                    \"color\": \"orange\",\n",
    "                    \"id\": \"59560dab-c776-43d1-9420-27f4011fcaec\",\n",
    "                    \"value\": \"A\",\n",
    "                },\n",
    "                {\n",
    "                    \"color\": \"default\",\n",
    "                    \"id\": \"502c7016-ac57-413a-90a6-64afadfb0c44\",\n",
    "                    \"value\": \"B\",\n",
    "                },\n",
    "            ],\n",
    "        },\n",
    "        \"LL[(\": {\"name\": \"Person\", \"type\": \"person\"},\n",
    "        \"4Jv$\": {\"name\": \"Estimated value\", \"type\": \"number\"},\n",
    "        \"OBcJ\": {\"name\": \"Where to?\", \"type\": \"url\"},\n",
    "        \"TwR:\": {\"name\": \"Some Date\", \"type\": \"date\"},\n",
    "        \"dV$q\": {\"name\": \"Files\", \"type\": \"file\"},\n",
    "        \"title\": {\"name\": \"Name\", \"type\": \"title\"},\n",
    "    }\n"
   ]
  },
  {
   "cell_type": "code",
   "execution_count": 29,
   "metadata": {},
   "outputs": [],
   "source": [
    "cvb = page.children.add_new(CollectionViewBlock)\n",
    "cvb.collection = client.get_collection(\n",
    "\tclient.create_record(\"collection\", parent=cvb, schema=get_collection_schema())\n",
    ")\n",
    "cvb.title = \"My data!\"\n",
    "view = cvb.views.add_new(view_type=\"table\")\n",
    "\n",
    "special_code = uuid.uuid4().hex[:8]\n",
    "\n"
   ]
  },
  {
   "cell_type": "markdown",
   "metadata": {},
   "source": [
    "#### Add a row"
   ]
  },
  {
   "cell_type": "code",
   "execution_count": 30,
   "metadata": {},
   "outputs": [],
   "source": [
    "# add a row\n",
    "row1 = cvb.collection.add_row()\n",
    "assert row1.person == []\n",
    "row1.name = \"Just some data\"\n",
    "row1.title = \"Can reference 'title' field too! \" + special_code\n",
    "assert row1.name == row1.title\n",
    "row1.check_yo_self = True\n",
    "row1.estimated_value = None\n",
    "row1.estimated_value = 42\n",
    "row1.files = [\n",
    "\t\"https://www.birdlife.org/sites/default/files/styles/1600/public/slide.jpg\"\n",
    "]\n",
    "row1.tags = None\n",
    "row1.tags = []\n",
    "row1.tags = [\"A\", \"C\"]\n",
    "row1.where_to = \"https://learningequality.org\"\n",
    "row1.category = \"A\"\n",
    "row1.category = \"\"\n",
    "row1.category = None\n",
    "row1.category = \"B\"\n",
    "\n",
    "start = datetime.strptime(\"2020-01-01 09:30\", \"%Y-%m-%d %H:%M\")\n",
    "end = datetime.strptime(\"2020-01-05 20:45\", \"%Y-%m-%d %H:%M\")\n",
    "timezone = \"America/Los_Angeles\"\n",
    "reminder = {\"unit\": \"minute\", \"value\": 30}\n",
    "row1.some_date = NotionDate(start, end=end, timezone=timezone, reminder=reminder)\n"
   ]
  },
  {
   "cell_type": "markdown",
   "metadata": {},
   "source": [
    "#### Add another row"
   ]
  },
  {
   "cell_type": "code",
   "execution_count": 33,
   "metadata": {},
   "outputs": [],
   "source": [
    "# add another row\n",
    "row2 = cvb.collection.add_row(person=client.current_user, title=\"Metallic penguins\")\n",
    "assert row2.person == [client.current_user]\n",
    "assert row2.name == \"Metallic penguins\"\n",
    "row2.check_yo_self = False\n",
    "row2.estimated_value = 22\n",
    "row2.files = [\n",
    "\t\"https://www.picclickimg.com/d/l400/pict/223603662103_/Vintage-Small-Monet-and-Jones-JNY-Enamel-Metallic.jpg\"\n",
    "]\n",
    "row2.tags = [\"A\", \"B\"]\n",
    "row2.where_to = \"https://learningequality.org\"\n",
    "row2.category = \"C\"\n"
   ]
  },
  {
   "cell_type": "markdown",
   "metadata": {},
   "source": [
    "#### Validate the collection"
   ]
  },
  {
   "cell_type": "code",
   "execution_count": 34,
   "metadata": {},
   "outputs": [],
   "source": [
    "# check that options \"C\" have been added to the schema\n",
    "for prop in [\"=d{|\", \"=d{q\"]:\n",
    "\tassert cvb.collection.get(\"schema.{}.options.2.value\".format(prop)) == \"C\"\n"
   ]
  },
  {
   "cell_type": "code",
   "execution_count": 35,
   "metadata": {},
   "outputs": [],
   "source": [
    "\n",
    "# check that existing options \"A\" haven't been affected\n",
    "for prop in [\"=d{|\", \"=d{q\"]:\n",
    "\tassert (\n",
    "\t\tcvb.collection.get(\"schema.{}.options.0.id\".format(prop))\n",
    "\t\t== get_collection_schema()[prop][\"options\"][0][\"id\"]\n",
    "\t)\n"
   ]
  },
  {
   "cell_type": "markdown",
   "metadata": {},
   "source": [
    "#### Query a collection"
   ]
  },
  {
   "cell_type": "code",
   "execution_count": null,
   "metadata": {},
   "outputs": [],
   "source": [
    "\n",
    "# Run a filtered/sorted query using the view's default parameters\n",
    "result = view.default_query().execute()\n",
    "assert row1 == result[0]\n",
    "assert row2 == result[1]\n",
    "assert len(result) == 2"
   ]
  },
  {
   "cell_type": "code",
   "execution_count": null,
   "metadata": {},
   "outputs": [],
   "source": [
    "\n",
    "# query the collection directly\n",
    "assert row1 in cvb.collection.get_rows(search=special_code)\n",
    "assert row2 not in cvb.collection.get_rows(search=special_code)\n",
    "assert row1 not in cvb.collection.get_rows(search=\"penguins\")\n",
    "assert row2 in cvb.collection.get_rows(search=\"penguins\")\n"
   ]
  },
  {
   "cell_type": "code",
   "execution_count": null,
   "metadata": {},
   "outputs": [],
   "source": [
    "\n",
    "# search the entire space\n",
    "assert row1 in client.search_blocks(search=special_code)\n",
    "assert row1 not in client.search_blocks(search=\"penguins\")\n",
    "assert row2 not in client.search_blocks(search=special_code)\n",
    "assert row2 in client.search_blocks(search=\"penguins\")\n"
   ]
  },
  {
   "cell_type": "code",
   "execution_count": null,
   "metadata": {},
   "outputs": [],
   "source": [
    "\n",
    "# Run an \"aggregation\" query\n",
    "aggregations = [\n",
    "\t{\"property\": \"estimated_value\", \"aggregator\": \"sum\", \"id\": \"total_value\"}\n",
    "]\n",
    "result = view.build_query(aggregations=aggregations).execute()\n",
    "assert result.get_aggregate(\"total_value\") == 64\n"
   ]
  },
  {
   "cell_type": "code",
   "execution_count": null,
   "metadata": {},
   "outputs": [],
   "source": [
    "\n",
    "# Run a \"filtered\" query\n",
    "filter_params = {\n",
    "\t\"filters\": [\n",
    "\t\t{\n",
    "\t\t\t\"filter\": {\n",
    "\t\t\t\t\"value\": {\n",
    "\t\t\t\t\t\"type\": \"exact\",\n",
    "\t\t\t\t\t\"value\": {\"table\": \"notion_user\", \"id\": client.current_user.id},\n",
    "\t\t\t\t},\n",
    "\t\t\t\t\"operator\": \"person_does_not_contain\",\n",
    "\t\t\t},\n",
    "\t\t\t\"property\": \"person\",\n",
    "\t\t}\n",
    "\t],\n",
    "\t\"operator\": \"and\",\n",
    "}\n",
    "result = view.build_query(filter=filter_params).execute()\n",
    "assert row1 in result\n",
    "assert row2 not in result\n"
   ]
  },
  {
   "cell_type": "code",
   "execution_count": null,
   "metadata": {},
   "outputs": [],
   "source": [
    "\n",
    "# Run a \"sorted\" query\n",
    "sort_params = [{\"direction\": \"ascending\", \"property\": \"estimated_value\"}]\n",
    "result = view.build_query(sort=sort_params).execute()\n",
    "assert row1 == result[1]\n",
    "assert row2 == result[0]\n"
   ]
  },
  {
   "cell_type": "markdown",
   "metadata": {},
   "source": [
    "#### Reminders and Time zones"
   ]
  },
  {
   "cell_type": "code",
   "execution_count": 41,
   "metadata": {},
   "outputs": [],
   "source": [
    "# Test that reminders and time zone's work properly\n",
    "row1.refresh()\n",
    "assert row1.some_date.start == start\n",
    "assert row1.some_date.end == end\n",
    "assert row1.some_date.timezone == timezone\n",
    "assert row1.some_date.reminder == reminder\n"
   ]
  },
  {
   "cell_type": "markdown",
   "metadata": {},
   "source": [
    "## Cleanup"
   ]
  },
  {
   "cell_type": "code",
   "execution_count": 42,
   "metadata": {},
   "outputs": [],
   "source": [
    "def _delete_page_fully(page):\n",
    "\n",
    "    id = page.id\n",
    "\n",
    "    parent_page = page.parent\n",
    "\n",
    "    assert page.get(\"alive\") == True\n",
    "    assert page in parent_page.children\n",
    "    page.remove()\n",
    "    assert page.get(\"alive\") == False\n",
    "    assert page not in parent_page.children\n",
    "\n",
    "    assert (\n",
    "        page.space_info\n",
    "    ), \"Page {} was fully deleted prematurely, as we can't get space info about it anymore\".format(\n",
    "        id\n",
    "    )\n",
    "\n",
    "    page.remove(permanently=True)\n",
    "\n",
    "    time.sleep(1)\n",
    "\n",
    "    assert (\n",
    "        not page.space_info\n",
    "    ), \"Page {} was not really fully deleted, as we can still get space info about it\".format(\n",
    "        id\n",
    "    )\n"
   ]
  },
  {
   "cell_type": "code",
   "execution_count": null,
   "metadata": {},
   "outputs": [],
   "source": [
    "_delete_page_fully(page)"
   ]
  },
  {
   "cell_type": "markdown",
   "metadata": {},
   "source": [
    "# Basic AI completions"
   ]
  },
  {
   "cell_type": "code",
   "execution_count": 5,
   "metadata": {},
   "outputs": [],
   "source": [
    "# Use this block to monitor an agent description page for backlinks, \n",
    "# which are automatically created when the agent page is @ mentioned\n",
    "\n",
    "# Set the url to a page \n",
    "url_of_agent_page = \"https://www.notion.so/ezwalk/Sample-Agent-3aef4872756e4d6380e5e3926ec33c71?pvs=4\"\n",
    "agent_page = client.get_block(url_of_agent_page)\n",
    "agent_backlinks = []"
   ]
  },
  {
   "cell_type": "code",
   "execution_count": null,
   "metadata": {},
   "outputs": [],
   "source": [
    "# poll the message store for new backlinks\n",
    "while True:\n",
    "\tfor link in agent_page.get_backlinks():\n",
    "\t\tif link in agent_backlinks:\n",
    "\t\t\tlink_location = agent_backlinks.index(link)\n",
    "\t\t\tagent_backlinks.insert(link_location, link)\n",
    "\t\t\tagent_backlinks.pop(link_location+1)\n",
    "\tprint(agent_backlinks)\n",
    "\ttime.sleep(1)"
   ]
  },
  {
   "cell_type": "code",
   "execution_count": 12,
   "metadata": {},
   "outputs": [
    {
     "ename": "IndexError",
     "evalue": "list index out of range",
     "output_type": "error",
     "traceback": [
      "\u001b[31m---------------------------------------------------------------------------\u001b[39m",
      "\u001b[31mIndexError\u001b[39m                                Traceback (most recent call last)",
      "\u001b[36mCell\u001b[39m\u001b[36m \u001b[39m\u001b[32mIn[12]\u001b[39m\u001b[32m, line 1\u001b[39m\n\u001b[32m----> \u001b[39m\u001b[32m1\u001b[39m \u001b[43magent_backlinks\u001b[49m\u001b[43m[\u001b[49m\u001b[32;43m0\u001b[39;49m\u001b[43m]\u001b[49m.\u001b[34m__dict__\u001b[39m\n",
      "\u001b[31mIndexError\u001b[39m: list index out of range"
     ]
    }
   ],
   "source": [
    "agent_backlinks[0].__dict__"
   ]
  },
  {
   "cell_type": "code",
   "execution_count": 7,
   "metadata": {},
   "outputs": [],
   "source": [
    "request_queue = []"
   ]
  },
  {
   "cell_type": "code",
   "execution_count": 15,
   "metadata": {},
   "outputs": [
    {
     "name": "stdout",
     "output_type": "stream",
     "text": [
      "[{'id': '1bd592a3-0352-80cf-b292-e62341b2e6fd', 'status': 'queued', 'prompt': 'Sample Agent '}, {'id': '1bd592a3-0352-8014-a747-dedaface5076', 'status': 'queued', 'prompt': 'Sample Agent How about a third mention'}, {'id': '1bd592a3-0352-80cf-b292-e62341b2e6fd', 'status': 'queued', 'prompt': 'Sample Agent '}]\n"
     ]
    }
   ],
   "source": [
    "# populate the request Queue\n",
    "try:\n",
    "\tlast_backlink = agent_page.get_backlinks()[0]\n",
    "\tif last_backlink.id not in request_queue:\n",
    "\t\trequest_queue.append(\n",
    "\t\t\t{\n",
    "\t\t\t\t\"id\": last_backlink.id,\n",
    "\t\t\t\t\"status\": \"queued\",\n",
    "\t\t\t\t\"prompt\":last_backlink.title_plaintext\n",
    "\t\t\t}\t\n",
    "      \t)\n",
    "\tprint(request_queue)\n",
    "except Exception as e:\n",
    "    raise e"
   ]
  },
  {
   "cell_type": "code",
   "execution_count": 36,
   "metadata": {},
   "outputs": [
    {
     "data": {
      "text/plain": [
       "[{'id': '1b6592a3-0352-80d6-a19e-d6b8e3383bb9',\n",
       "  'status': 'queued',\n",
       "  'prompt': 'Sample Agent Tell me again why the earth is flat'}]"
      ]
     },
     "execution_count": 36,
     "metadata": {},
     "output_type": "execute_result"
    }
   ],
   "source": [
    "request_queue"
   ]
  },
  {
   "cell_type": "code",
   "execution_count": 12,
   "metadata": {},
   "outputs": [],
   "source": [
    "from openai import OpenAI\n",
    "openai_client = OpenAI()\n",
    "\n",
    "completion = openai_client.chat.completions.create(\n",
    "    model=\"gpt-4o\",\n",
    "    messages=[{\n",
    "        \"role\": \"user\",\n",
    "        \"content\": \"Write a one-sentence bedtime story about a unicorn.\"\n",
    "    }]\n",
    ")"
   ]
  },
  {
   "cell_type": "code",
   "execution_count": 37,
   "metadata": {},
   "outputs": [
    {
     "name": "stdout",
     "output_type": "stream",
     "text": [
      "The idea that the Earth is flat is a misconception that has been conclusively debunked by science. The Earth is, in fact, an oblate spheroid, which means it is mostly spherical but slightly flattened at the poles and bulging at the equator due to its rotation.\n",
      "\n",
      "Here are some key points that support the understanding that the Earth is round:\n",
      "\n",
      "1. **Historical Evidence**: Ancient Greek philosophers and mathematicians, such as Pythagoras and Eratosthenes, provided early evidence of a spherical Earth. Eratosthenes, for example, calculated the circumference of the Earth with remarkable accuracy over 2,000 years ago.\n",
      "\n",
      "2. **Photographic Evidence**: Since the advent of space travel in the 20th century, photographs taken from space have consistently shown the Earth as a round object.\n",
      "\n",
      "3. **Physical Phenomena**: Observations such as the way ships disappear hull-first over the horizon, the circular shadow of the Earth on the Moon during a lunar eclipse, and the way constellations change with latitude all support a spherical Earth.\n",
      "\n",
      "4. **Gravity**: The way gravity pulls objects toward the center of mass explains why celestial bodies, including the Earth, naturally form into a spherical shape due to gravitational forces.\n",
      "\n",
      "5. **Global Navigation**: Modern navigation systems, including GPS, rely on a spherical Earth model to accurately represent locations and distances.\n",
      "\n",
      "While the flat Earth idea persists in some groups today, it is not supported by credible scientific evidence. The overwhelming consensus in the scientific community is that the Earth is an oblate spheroid.\n"
     ]
    }
   ],
   "source": [
    "print(completion.choices[0].message.content)"
   ]
  },
  {
   "cell_type": "code",
   "execution_count": 38,
   "metadata": {},
   "outputs": [
    {
     "name": "stdout",
     "output_type": "stream",
     "text": [
      "1b6592a3-0352-80d6-a19e-d6b8e3383bb9\n"
     ]
    }
   ],
   "source": [
    "for request in request_queue:\n",
    "    print(request['id'])\n",
    "    if request['status'] == \"queued\":\n",
    "        # Do AI call\n",
    "        completion = openai_client.chat.completions.create(\n",
    "\t\t\tmodel=\"gpt-4o\",\n",
    "\t\t\tmessages=[{\n",
    "\t\t\t\t\"role\": \"user\",\n",
    "\t\t\t\t\"content\": request[\"prompt\"]\n",
    "\t\t\t}]\n",
    "\t\t)\n",
    "        \n",
    "        # Get the calling block\n",
    "        request_block = client.get_block(request['id'])\n",
    "        \n",
    "        # Add the completion response as a child to the calling block\n",
    "        request_block.children.add_new(TextBlock, title=completion.choices[0].message.content)\n",
    "    "
   ]
  },
  {
   "cell_type": "code",
   "execution_count": null,
   "metadata": {},
   "outputs": [],
   "source": []
  }
 ],
 "metadata": {
  "kernelspec": {
   "display_name": ".venv",
   "language": "python",
   "name": "python3"
  },
  "language_info": {
   "codemirror_mode": {
    "name": "ipython",
    "version": 3
   },
   "file_extension": ".py",
   "mimetype": "text/x-python",
   "name": "python",
   "nbconvert_exporter": "python",
   "pygments_lexer": "ipython3",
   "version": "3.12.10"
  }
 },
 "nbformat": 4,
 "nbformat_minor": 2
}
