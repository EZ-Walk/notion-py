{
 "cells": [
  {
   "cell_type": "code",
   "execution_count": 2,
   "metadata": {},
   "outputs": [],
   "source": [
    "import argparse\n",
    "import os\n",
    "import sys\n",
    "from dotenv import load_dotenv\n",
    "load_dotenv()\n",
    "\n",
    "from notion.smoke_test import run_live_smoke_test"
   ]
  },
  {
   "cell_type": "code",
   "execution_count": 15,
   "metadata": {},
   "outputs": [],
   "source": [
    "assert(os.environ.get(\"NOTION_TOKEN\") is not None)\n",
    "token_v2 = os.environ.get(\"NOTION_TOKEN\")\n",
    "parent_page_url_or_id = \"https://www.notion.so/ezwalk/Example-usage-of-1ad592a303528014899bde92b5d12147?pvs=4\""
   ]
  },
  {
   "cell_type": "code",
   "execution_count": 16,
   "metadata": {},
   "outputs": [
    {
     "name": "stdout",
     "output_type": "stream",
     "text": [
      "id='1ad592a3-0352-8014-899b-de92b5d12147', title='Notion-py Smoke Tests'\n",
      "Created base smoke test page at: https://www.notion.so/fcae40eaa4614c06974e4b26d0518b6b\n"
     ]
    },
    {
     "ename": "AssertionError",
     "evalue": "",
     "output_type": "error",
     "traceback": [
      "\u001b[31m---------------------------------------------------------------------------\u001b[39m",
      "\u001b[31mAssertionError\u001b[39m                            Traceback (most recent call last)",
      "\u001b[36mCell\u001b[39m\u001b[36m \u001b[39m\u001b[32mIn[16]\u001b[39m\u001b[32m, line 1\u001b[39m\n\u001b[32m----> \u001b[39m\u001b[32m1\u001b[39m \u001b[43mrun_live_smoke_test\u001b[49m\u001b[43m(\u001b[49m\n\u001b[32m      2\u001b[39m \u001b[43m    \u001b[49m\u001b[43mtoken_v2\u001b[49m\u001b[43m=\u001b[49m\u001b[43mos\u001b[49m\u001b[43m.\u001b[49m\u001b[43menviron\u001b[49m\u001b[43m.\u001b[49m\u001b[43mget\u001b[49m\u001b[43m(\u001b[49m\u001b[33;43m\"\u001b[39;49m\u001b[33;43mNOTION_TOKEN\u001b[39;49m\u001b[33;43m\"\u001b[39;49m\u001b[43m)\u001b[49m\u001b[43m,\u001b[49m\n\u001b[32m      3\u001b[39m \u001b[43m    \u001b[49m\u001b[43mparent_page_url_or_id\u001b[49m\u001b[43m \u001b[49m\u001b[43m=\u001b[49m\u001b[43m \u001b[49m\u001b[43mparent_page_url_or_id\u001b[49m\n\u001b[32m      4\u001b[39m \u001b[43m    \u001b[49m\u001b[43m)\u001b[49m\n",
      "\u001b[36mFile \u001b[39m\u001b[32m~/Documents/Projects/notion-py/notion/smoke_test.py:59\u001b[39m, in \u001b[36mrun_live_smoke_test\u001b[39m\u001b[34m(token_v2, parent_page_url_or_id)\u001b[39m\n\u001b[32m     51\u001b[39m page.children.add_new(\n\u001b[32m     52\u001b[39m     QuoteBlock,\n\u001b[32m     53\u001b[39m     title=\u001b[33m\"\u001b[39m\u001b[33mClicking [here](\u001b[39m\u001b[38;5;132;01m{}\u001b[39;00m\u001b[33m) should take you to the same place...\u001b[39m\u001b[33m\"\u001b[39m.format(\n\u001b[32m     54\u001b[39m         page.parent.get_browseable_url()\n\u001b[32m     55\u001b[39m     ),\n\u001b[32m     56\u001b[39m )\n\u001b[32m     58\u001b[39m \u001b[38;5;66;03m# check that the parent now knows about the backlink\u001b[39;00m\n\u001b[32m---> \u001b[39m\u001b[32m59\u001b[39m \u001b[38;5;28;01massert\u001b[39;00m page \u001b[38;5;129;01min\u001b[39;00m parent_page.get_backlinks()\n\u001b[32m     61\u001b[39m \u001b[38;5;66;03m# ensure __repr__ methods are not breaking\u001b[39;00m\n\u001b[32m     62\u001b[39m \u001b[38;5;28mrepr\u001b[39m(page)\n",
      "\u001b[31mAssertionError\u001b[39m: "
     ]
    }
   ],
   "source": [
    "run_live_smoke_test(\n",
    "    token_v2=os.environ.get(\"NOTION_TOKEN\"),\n",
    "    parent_page_url_or_id = parent_page_url_or_id\n",
    "    )"
   ]
  },
  {
   "cell_type": "markdown",
   "metadata": {},
   "source": [
    "# The Smoke Test\n",
    "as detailed in the function `run_live_smoke_test` inside the file `notion/smoke_test.py` can be expanded by the following cells to isolate, test and debug a specific feature."
   ]
  },
  {
   "cell_type": "code",
   "execution_count": 9,
   "metadata": {},
   "outputs": [],
   "source": [
    "from datetime import datetime\n",
    "\n",
    "from notion.client import *\n",
    "from notion.block import *\n",
    "from notion.collection import NotionDate"
   ]
  },
  {
   "cell_type": "markdown",
   "metadata": {},
   "source": [
    "## Client Setup"
   ]
  },
  {
   "cell_type": "code",
   "execution_count": 13,
   "metadata": {},
   "outputs": [],
   "source": [
    "client = NotionClient(token_v2=token_v2)"
   ]
  },
  {
   "cell_type": "markdown",
   "metadata": {},
   "source": [
    "## Page Setup"
   ]
  },
  {
   "cell_type": "code",
   "execution_count": 17,
   "metadata": {},
   "outputs": [
    {
     "name": "stdout",
     "output_type": "stream",
     "text": [
      "id='1ad592a3-0352-8014-899b-de92b5d12147', title='Notion-py Smoke Tests'\n",
      "Created base smoke test page at: https://www.notion.so/6268772547dd4b3687600f6dd5db5fd8\n"
     ]
    }
   ],
   "source": [
    "parent_page = client.get_block(parent_page_url_or_id)\n",
    "print(parent_page)\n",
    "page = parent_page.children.add_new(\n",
    "\tPageBlock,\n",
    "\ttitle=\"Smoke test at {}\".format(datetime.now().strftime(\"%Y-%m-%d %H:%M:%S\")),\n",
    ")\n",
    "\n",
    "print(\"Created base smoke test page at:\", page.get_browseable_url())"
   ]
  },
  {
   "cell_type": "markdown",
   "metadata": {},
   "source": [
    "### Basic Blocks"
   ]
  },
  {
   "cell_type": "code",
   "execution_count": 18,
   "metadata": {},
   "outputs": [],
   "source": [
    "col_list = page.children.add_new(ColumnListBlock)\n",
    "col1 = col_list.children.add_new(ColumnBlock)\n",
    "col2 = col_list.children.add_new(ColumnBlock)\n",
    "col1kid = col1.children.add_new(\n",
    "\tTextBlock, title=\"Some formatting: *italic*, **bold**, ***both***!\"\n",
    ")\n",
    "assert (\n",
    "\tcol1kid.title.replace(\"_\", \"*\")\n",
    "\t== \"Some formatting: *italic*, **bold**, ***both***!\"\n",
    ")\n",
    "assert col1kid.title_plaintext == \"Some formatting: italic, bold, both!\""
   ]
  },
  {
   "cell_type": "markdown",
   "metadata": {},
   "source": [
    "### To-Do Blocks"
   ]
  },
  {
   "cell_type": "code",
   "execution_count": null,
   "metadata": {},
   "outputs": [],
   "source": [
    "col2.children.add_new(TodoBlock, title=\"I should be unchecked\")\n",
    "col2.children.add_new(TodoBlock, title=\"I should be checked\", checked=True)"
   ]
  },
  {
   "cell_type": "markdown",
   "metadata": {},
   "source": [
    "### Video Blocks"
   ]
  },
  {
   "cell_type": "code",
   "execution_count": 19,
   "metadata": {},
   "outputs": [],
   "source": [
    "page.children.add_new(HeaderBlock, title=\"The finest music:\")\n",
    "video = page.children.add_new(VideoBlock, width=100)\n",
    "video.set_source_url(\"https://www.youtube.com/watch?v=oHg5SJYRHA0\")"
   ]
  },
  {
   "cell_type": "code",
   "execution_count": 20,
   "metadata": {},
   "outputs": [],
   "source": [
    "assert video in page.children\n",
    "assert col_list in page.children\n",
    "assert video in page.children.filter(VideoBlock)\n",
    "assert col_list not in page.children.filter(VideoBlock)"
   ]
  },
  {
   "cell_type": "markdown",
   "metadata": {},
   "source": [
    "### Callouts"
   ]
  },
  {
   "cell_type": "code",
   "execution_count": 27,
   "metadata": {},
   "outputs": [
    {
     "data": {
      "text/plain": [
       "<CalloutBlock (id='623ba6b8-ddd4-4252-aa34-8cee12dbc786', title='I am a callout')>"
      ]
     },
     "execution_count": 27,
     "metadata": {},
     "output_type": "execute_result"
    }
   ],
   "source": [
    "page.children.add_new(CalloutBlock, title=\"I am a callout\", icon=\"🤞\")\n"
   ]
  },
  {
   "cell_type": "markdown",
   "metadata": {},
   "source": [
    "### Mentions, Links and Backlinking"
   ]
  },
  {
   "cell_type": "code",
   "execution_count": 21,
   "metadata": {},
   "outputs": [],
   "source": [
    "# check that the parent does not yet consider this page to be backlinking\n",
    "assert page not in parent_page.get_backlinks()\n"
   ]
  },
  {
   "cell_type": "code",
   "execution_count": 22,
   "metadata": {},
   "outputs": [
    {
     "data": {
      "text/plain": [
       "<QuoteBlock (id='0dc1e788-5d70-4a24-baef-30ba57490d21', title='Clicking [here](https://www.notion.so/1ad592a303528014899bde92b5d12147) should take you to the same place...')>"
      ]
     },
     "execution_count": 22,
     "metadata": {},
     "output_type": "execute_result"
    }
   ],
   "source": [
    "page.children.add_new(SubheaderBlock, title=\"A link back to where I came from:\")\n",
    "alias = page.children.add_alias(parent_page)\n",
    "assert alias.is_alias\n",
    "assert not page.is_alias\n",
    "page.children.add_new(\n",
    "\tQuoteBlock,\n",
    "\ttitle=\"Clicking [here]({}) should take you to the same place...\".format(\n",
    "\t\tpage.parent.get_browseable_url()\n",
    "\t),\n",
    ")"
   ]
  },
  {
   "cell_type": "code",
   "execution_count": 24,
   "metadata": {},
   "outputs": [
    {
     "ename": "AssertionError",
     "evalue": "",
     "output_type": "error",
     "traceback": [
      "\u001b[31m---------------------------------------------------------------------------\u001b[39m",
      "\u001b[31mAssertionError\u001b[39m                            Traceback (most recent call last)",
      "\u001b[36mCell\u001b[39m\u001b[36m \u001b[39m\u001b[32mIn[24]\u001b[39m\u001b[32m, line 3\u001b[39m\n\u001b[32m      1\u001b[39m \u001b[38;5;66;03m# check that the parent now knows about the backlink\u001b[39;00m\n\u001b[32m      2\u001b[39m parent_page.refresh()\n\u001b[32m----> \u001b[39m\u001b[32m3\u001b[39m \u001b[38;5;28;01massert\u001b[39;00m page \u001b[38;5;129;01min\u001b[39;00m parent_page.get_backlinks()\n",
      "\u001b[31mAssertionError\u001b[39m: "
     ]
    }
   ],
   "source": [
    "# check that the parent now knows about the backlink\n",
    "assert page in parent_page.get_backlinks()"
   ]
  },
  {
   "cell_type": "code",
   "execution_count": 25,
   "metadata": {},
   "outputs": [],
   "source": [
    "# ensure __repr__ methods are not breaking\n",
    "repr(page)\n",
    "repr(page.children)\n",
    "for child in page.children:\n",
    "\trepr(child)\n"
   ]
  },
  {
   "cell_type": "markdown",
   "metadata": {},
   "source": [
    "### Moving blocks"
   ]
  },
  {
   "cell_type": "code",
   "execution_count": 26,
   "metadata": {},
   "outputs": [],
   "source": [
    "page.children.add_new(\n",
    "\tSubheaderBlock, title=\"The order of the following should be alphabetical:\"\n",
    ")\n",
    "\n",
    "B = page.children.add_new(BulletedListBlock, title=\"B\")\n",
    "D = page.children.add_new(BulletedListBlock, title=\"D\")\n",
    "C2 = page.children.add_new(BulletedListBlock, title=\"C2\")\n",
    "C1 = page.children.add_new(BulletedListBlock, title=\"C1\")\n",
    "C = page.children.add_new(BulletedListBlock, title=\"C\")\n",
    "A = page.children.add_new(BulletedListBlock, title=\"A\")\n",
    "\n",
    "D.move_to(C, \"after\")\n",
    "A.move_to(B, \"before\")\n",
    "C2.move_to(C)\n",
    "C1.move_to(C, \"first-child\")\n"
   ]
  },
  {
   "cell_type": "markdown",
   "metadata": {},
   "source": [
    "### Collections"
   ]
  },
  {
   "cell_type": "markdown",
   "metadata": {},
   "source": [
    "#### Create a collection and a view"
   ]
  },
  {
   "cell_type": "code",
   "execution_count": 30,
   "metadata": {},
   "outputs": [],
   "source": [
    "def get_collection_schema():\n",
    "    return {\n",
    "        \"%9:q\": {\"name\": \"Check Yo'self\", \"type\": \"checkbox\"},\n",
    "        \"=d{|\": {\n",
    "            \"name\": \"Tags\",\n",
    "            \"type\": \"multi_select\",\n",
    "            \"options\": [\n",
    "                {\n",
    "                    \"color\": \"orange\",\n",
    "                    \"id\": \"79560dab-c776-43d1-9420-27f4011fcaec\",\n",
    "                    \"value\": \"A\",\n",
    "                },\n",
    "                {\n",
    "                    \"color\": \"default\",\n",
    "                    \"id\": \"002c7016-ac57-413a-90a6-64afadfb0c44\",\n",
    "                    \"value\": \"B\",\n",
    "                },\n",
    "            ],\n",
    "        },\n",
    "        \"=d{q\": {\n",
    "            \"name\": \"Category\",\n",
    "            \"type\": \"select\",\n",
    "            \"options\": [\n",
    "                {\n",
    "                    \"color\": \"orange\",\n",
    "                    \"id\": \"59560dab-c776-43d1-9420-27f4011fcaec\",\n",
    "                    \"value\": \"A\",\n",
    "                },\n",
    "                {\n",
    "                    \"color\": \"default\",\n",
    "                    \"id\": \"502c7016-ac57-413a-90a6-64afadfb0c44\",\n",
    "                    \"value\": \"B\",\n",
    "                },\n",
    "            ],\n",
    "        },\n",
    "        \"LL[(\": {\"name\": \"Person\", \"type\": \"person\"},\n",
    "        \"4Jv$\": {\"name\": \"Estimated value\", \"type\": \"number\"},\n",
    "        \"OBcJ\": {\"name\": \"Where to?\", \"type\": \"url\"},\n",
    "        \"TwR:\": {\"name\": \"Some Date\", \"type\": \"date\"},\n",
    "        \"dV$q\": {\"name\": \"Files\", \"type\": \"file\"},\n",
    "        \"title\": {\"name\": \"Name\", \"type\": \"title\"},\n",
    "    }\n"
   ]
  },
  {
   "cell_type": "code",
   "execution_count": 31,
   "metadata": {},
   "outputs": [],
   "source": [
    "cvb = page.children.add_new(CollectionViewBlock)\n",
    "cvb.collection = client.get_collection(\n",
    "\tclient.create_record(\"collection\", parent=cvb, schema=get_collection_schema())\n",
    ")\n",
    "cvb.title = \"My data!\"\n",
    "view = cvb.views.add_new(view_type=\"table\")\n",
    "\n",
    "special_code = uuid.uuid4().hex[:8]\n",
    "\n"
   ]
  },
  {
   "cell_type": "markdown",
   "metadata": {},
   "source": [
    "#### Add a row"
   ]
  },
  {
   "cell_type": "code",
   "execution_count": 32,
   "metadata": {},
   "outputs": [],
   "source": [
    "# add a row\n",
    "row1 = cvb.collection.add_row()\n",
    "assert row1.person == []\n",
    "row1.name = \"Just some data\"\n",
    "row1.title = \"Can reference 'title' field too! \" + special_code\n",
    "assert row1.name == row1.title\n",
    "row1.check_yo_self = True\n",
    "row1.estimated_value = None\n",
    "row1.estimated_value = 42\n",
    "row1.files = [\n",
    "\t\"https://www.birdlife.org/sites/default/files/styles/1600/public/slide.jpg\"\n",
    "]\n",
    "row1.tags = None\n",
    "row1.tags = []\n",
    "row1.tags = [\"A\", \"C\"]\n",
    "row1.where_to = \"https://learningequality.org\"\n",
    "row1.category = \"A\"\n",
    "row1.category = \"\"\n",
    "row1.category = None\n",
    "row1.category = \"B\"\n",
    "\n",
    "start = datetime.strptime(\"2020-01-01 09:30\", \"%Y-%m-%d %H:%M\")\n",
    "end = datetime.strptime(\"2020-01-05 20:45\", \"%Y-%m-%d %H:%M\")\n",
    "timezone = \"America/Los_Angeles\"\n",
    "reminder = {\"unit\": \"minute\", \"value\": 30}\n",
    "row1.some_date = NotionDate(start, end=end, timezone=timezone, reminder=reminder)\n"
   ]
  },
  {
   "cell_type": "markdown",
   "metadata": {},
   "source": [
    "#### Add another row"
   ]
  },
  {
   "cell_type": "code",
   "execution_count": 33,
   "metadata": {},
   "outputs": [],
   "source": [
    "# add another row\n",
    "row2 = cvb.collection.add_row(person=client.current_user, title=\"Metallic penguins\")\n",
    "assert row2.person == [client.current_user]\n",
    "assert row2.name == \"Metallic penguins\"\n",
    "row2.check_yo_self = False\n",
    "row2.estimated_value = 22\n",
    "row2.files = [\n",
    "\t\"https://www.picclickimg.com/d/l400/pict/223603662103_/Vintage-Small-Monet-and-Jones-JNY-Enamel-Metallic.jpg\"\n",
    "]\n",
    "row2.tags = [\"A\", \"B\"]\n",
    "row2.where_to = \"https://learningequality.org\"\n",
    "row2.category = \"C\"\n"
   ]
  },
  {
   "cell_type": "markdown",
   "metadata": {},
   "source": [
    "#### Validate the collection"
   ]
  },
  {
   "cell_type": "code",
   "execution_count": 34,
   "metadata": {},
   "outputs": [],
   "source": [
    "# check that options \"C\" have been added to the schema\n",
    "for prop in [\"=d{|\", \"=d{q\"]:\n",
    "\tassert cvb.collection.get(\"schema.{}.options.2.value\".format(prop)) == \"C\"\n"
   ]
  },
  {
   "cell_type": "code",
   "execution_count": 35,
   "metadata": {},
   "outputs": [],
   "source": [
    "\n",
    "# check that existing options \"A\" haven't been affected\n",
    "for prop in [\"=d{|\", \"=d{q\"]:\n",
    "\tassert (\n",
    "\t\tcvb.collection.get(\"schema.{}.options.0.id\".format(prop))\n",
    "\t\t== get_collection_schema()[prop][\"options\"][0][\"id\"]\n",
    "\t)\n"
   ]
  },
  {
   "cell_type": "markdown",
   "metadata": {},
   "source": [
    "#### Query a collection"
   ]
  },
  {
   "cell_type": "code",
   "execution_count": 36,
   "metadata": {},
   "outputs": [
    {
     "name": "stderr",
     "output_type": "stream",
     "text": [
      "/Users/ethanwalker/Documents/Projects/notion-py/notion/client.py:212: SyntaxWarning: invalid escape sequence '\\?'\n",
      "  match = re.search(\"([a-f0-9]{32})\\?v=([a-f0-9]{32})\", url_or_id)\n"
     ]
    },
    {
     "ename": "HTTPError",
     "evalue": "Something went wrong. (400)",
     "output_type": "error",
     "traceback": [
      "\u001b[31m---------------------------------------------------------------------------\u001b[39m",
      "\u001b[31mHTTPError\u001b[39m                                 Traceback (most recent call last)",
      "\u001b[36mCell\u001b[39m\u001b[36m \u001b[39m\u001b[32mIn[36]\u001b[39m\u001b[32m, line 2\u001b[39m\n\u001b[32m      1\u001b[39m \u001b[38;5;66;03m# Run a filtered/sorted query using the view's default parameters\u001b[39;00m\n\u001b[32m----> \u001b[39m\u001b[32m2\u001b[39m result = \u001b[43mview\u001b[49m\u001b[43m.\u001b[49m\u001b[43mdefault_query\u001b[49m\u001b[43m(\u001b[49m\u001b[43m)\u001b[49m\u001b[43m.\u001b[49m\u001b[43mexecute\u001b[49m\u001b[43m(\u001b[49m\u001b[43m)\u001b[49m\n\u001b[32m      3\u001b[39m \u001b[38;5;28;01massert\u001b[39;00m row1 == result[\u001b[32m0\u001b[39m]\n\u001b[32m      4\u001b[39m \u001b[38;5;28;01massert\u001b[39;00m row2 == result[\u001b[32m1\u001b[39m]\n",
      "\u001b[36mFile \u001b[39m\u001b[32m~/Documents/Projects/notion-py/notion/collection.py:418\u001b[39m, in \u001b[36mCollectionQuery.execute\u001b[39m\u001b[34m(self)\u001b[39m\n\u001b[32m    412\u001b[39m     \u001b[38;5;28mself\u001b[39m.limit = result.get(\u001b[33m\"\u001b[39m\u001b[33mtotal\u001b[39m\u001b[33m\"\u001b[39m,-\u001b[32m1\u001b[39m)\n\u001b[32m    414\u001b[39m kwargs[\u001b[33m'\u001b[39m\u001b[33mlimit\u001b[39m\u001b[33m'\u001b[39m] = \u001b[38;5;28mself\u001b[39m.limit\n\u001b[32m    416\u001b[39m \u001b[38;5;28;01mreturn\u001b[39;00m result_class(\n\u001b[32m    417\u001b[39m     \u001b[38;5;28mself\u001b[39m.collection,\n\u001b[32m--> \u001b[39m\u001b[32m418\u001b[39m     \u001b[38;5;28;43mself\u001b[39;49m\u001b[43m.\u001b[49m\u001b[43m_client\u001b[49m\u001b[43m.\u001b[49m\u001b[43mquery_collection\u001b[49m\u001b[43m(\u001b[49m\n\u001b[32m    419\u001b[39m \u001b[43m        \u001b[49m\u001b[43m*\u001b[49m\u001b[43m*\u001b[49m\u001b[43mkwargs\u001b[49m\n\u001b[32m    420\u001b[39m \u001b[43m    \u001b[49m\u001b[43m)\u001b[49m,\n\u001b[32m    421\u001b[39m     \u001b[38;5;28mself\u001b[39m,\n\u001b[32m    422\u001b[39m )\n",
      "\u001b[36mFile \u001b[39m\u001b[32m~/Documents/Projects/notion-py/notion/client.py:294\u001b[39m, in \u001b[36mNotionClient.query_collection\u001b[39m\u001b[34m(self, *args, **kwargs)\u001b[39m\n\u001b[32m    293\u001b[39m \u001b[38;5;28;01mdef\u001b[39;00m\u001b[38;5;250m \u001b[39m\u001b[34mquery_collection\u001b[39m(\u001b[38;5;28mself\u001b[39m, *args, **kwargs):\n\u001b[32m--> \u001b[39m\u001b[32m294\u001b[39m     \u001b[38;5;28;01mreturn\u001b[39;00m \u001b[38;5;28;43mself\u001b[39;49m\u001b[43m.\u001b[49m\u001b[43m_store\u001b[49m\u001b[43m.\u001b[49m\u001b[43mcall_query_collection\u001b[49m\u001b[43m(\u001b[49m\u001b[43m*\u001b[49m\u001b[43margs\u001b[49m\u001b[43m,\u001b[49m\u001b[43m \u001b[49m\u001b[43m*\u001b[49m\u001b[43m*\u001b[49m\u001b[43mkwargs\u001b[49m\u001b[43m)\u001b[49m\n",
      "\u001b[36mFile \u001b[39m\u001b[32m~/Documents/Projects/notion-py/notion/store.py:360\u001b[39m, in \u001b[36mRecordStore.call_query_collection\u001b[39m\u001b[34m(self, collection_id, collection_view_id, space_id, search, type, aggregate, aggregations, filter, sort, calendar_by, group_by, limit)\u001b[39m\n\u001b[32m    357\u001b[39m \u001b[38;5;28;01mif\u001b[39;00m aggregations:\n\u001b[32m    358\u001b[39m     data[\u001b[33m\"\u001b[39m\u001b[33mloader\u001b[39m\u001b[33m\"\u001b[39m][\u001b[33m\"\u001b[39m\u001b[33maggregations\u001b[39m\u001b[33m\"\u001b[39m] = aggregations\n\u001b[32m--> \u001b[39m\u001b[32m360\u001b[39m response = \u001b[38;5;28;43mself\u001b[39;49m\u001b[43m.\u001b[49m\u001b[43m_client\u001b[49m\u001b[43m.\u001b[49m\u001b[43mpost\u001b[49m\u001b[43m(\u001b[49m\u001b[33;43m\"\u001b[39;49m\u001b[33;43mqueryCollection\u001b[39;49m\u001b[33;43m\"\u001b[39;49m\u001b[43m,\u001b[49m\u001b[43m \u001b[49m\u001b[43mdata\u001b[49m\u001b[43m)\u001b[49m.json()\n\u001b[32m    362\u001b[39m \u001b[38;5;28mself\u001b[39m.store_recordmap(response[\u001b[33m\"\u001b[39m\u001b[33mrecordMap\u001b[39m\u001b[33m\"\u001b[39m])\n\u001b[32m    364\u001b[39m \u001b[38;5;28;01mreturn\u001b[39;00m response[\u001b[33m\"\u001b[39m\u001b[33mresult\u001b[39m\u001b[33m\"\u001b[39m]\n",
      "\u001b[36mFile \u001b[39m\u001b[32m~/Documents/Projects/notion-py/notion/client.py:260\u001b[39m, in \u001b[36mNotionClient.post\u001b[39m\u001b[34m(self, endpoint, data)\u001b[39m\n\u001b[32m    254\u001b[39m \u001b[38;5;28;01mif\u001b[39;00m response.status_code == \u001b[32m400\u001b[39m:\n\u001b[32m    255\u001b[39m     logger.error(\n\u001b[32m    256\u001b[39m         \u001b[33m\"\u001b[39m\u001b[33mGot 400 error attempting to POST to \u001b[39m\u001b[38;5;132;01m{}\u001b[39;00m\u001b[33m, with data: \u001b[39m\u001b[38;5;132;01m{}\u001b[39;00m\u001b[33m\"\u001b[39m.format(\n\u001b[32m    257\u001b[39m             endpoint, json.dumps(data, indent=\u001b[32m2\u001b[39m)\n\u001b[32m    258\u001b[39m         )\n\u001b[32m    259\u001b[39m     )\n\u001b[32m--> \u001b[39m\u001b[32m260\u001b[39m     \u001b[38;5;28;01mraise\u001b[39;00m HTTPError(\n\u001b[32m    261\u001b[39m         response.json().get(\n\u001b[32m    262\u001b[39m             \u001b[33m\"\u001b[39m\u001b[33mmessage\u001b[39m\u001b[33m\"\u001b[39m, \u001b[33m\"\u001b[39m\u001b[33mThere was an error (400) submitting the request.\u001b[39m\u001b[33m\"\u001b[39m\n\u001b[32m    263\u001b[39m         )\n\u001b[32m    264\u001b[39m     )\n\u001b[32m    265\u001b[39m response.raise_for_status()\n\u001b[32m    266\u001b[39m \u001b[38;5;28;01mreturn\u001b[39;00m response\n",
      "\u001b[31mHTTPError\u001b[39m: Something went wrong. (400)"
     ]
    }
   ],
   "source": [
    "\n",
    "# Run a filtered/sorted query using the view's default parameters\n",
    "result = view.default_query().execute()\n",
    "assert row1 == result[0]\n",
    "assert row2 == result[1]\n",
    "assert len(result) == 2"
   ]
  },
  {
   "cell_type": "code",
   "execution_count": 37,
   "metadata": {},
   "outputs": [
    {
     "ename": "HTTPError",
     "evalue": "Something went wrong. (400)",
     "output_type": "error",
     "traceback": [
      "\u001b[31m---------------------------------------------------------------------------\u001b[39m",
      "\u001b[31mHTTPError\u001b[39m                                 Traceback (most recent call last)",
      "\u001b[36mCell\u001b[39m\u001b[36m \u001b[39m\u001b[32mIn[37]\u001b[39m\u001b[32m, line 2\u001b[39m\n\u001b[32m      1\u001b[39m \u001b[38;5;66;03m# query the collection directly\u001b[39;00m\n\u001b[32m----> \u001b[39m\u001b[32m2\u001b[39m \u001b[38;5;28;01massert\u001b[39;00m row1 \u001b[38;5;129;01min\u001b[39;00m \u001b[43mcvb\u001b[49m\u001b[43m.\u001b[49m\u001b[43mcollection\u001b[49m\u001b[43m.\u001b[49m\u001b[43mget_rows\u001b[49m\u001b[43m(\u001b[49m\u001b[43msearch\u001b[49m\u001b[43m=\u001b[49m\u001b[43mspecial_code\u001b[49m\u001b[43m)\u001b[49m\n\u001b[32m      3\u001b[39m \u001b[38;5;28;01massert\u001b[39;00m row2 \u001b[38;5;129;01mnot\u001b[39;00m \u001b[38;5;129;01min\u001b[39;00m cvb.collection.get_rows(search=special_code)\n\u001b[32m      4\u001b[39m \u001b[38;5;28;01massert\u001b[39;00m row1 \u001b[38;5;129;01mnot\u001b[39;00m \u001b[38;5;129;01min\u001b[39;00m cvb.collection.get_rows(search=\u001b[33m\"\u001b[39m\u001b[33mpenguins\u001b[39m\u001b[33m\"\u001b[39m)\n",
      "\u001b[36mFile \u001b[39m\u001b[32m~/Documents/Projects/notion-py/notion/collection.py:241\u001b[39m, in \u001b[36mCollection.get_rows\u001b[39m\u001b[34m(self, **kwargs)\u001b[39m\n\u001b[32m    240\u001b[39m \u001b[38;5;28;01mdef\u001b[39;00m\u001b[38;5;250m \u001b[39m\u001b[34mget_rows\u001b[39m(\u001b[38;5;28mself\u001b[39m, **kwargs):\n\u001b[32m--> \u001b[39m\u001b[32m241\u001b[39m     \u001b[38;5;28;01mreturn\u001b[39;00m \u001b[38;5;28;43mself\u001b[39;49m\u001b[43m.\u001b[49m\u001b[43mquery\u001b[49m\u001b[43m(\u001b[49m\u001b[43m*\u001b[49m\u001b[43m*\u001b[49m\u001b[43mkwargs\u001b[49m\u001b[43m)\u001b[49m\n",
      "\u001b[36mFile \u001b[39m\u001b[32m~/Documents/Projects/notion-py/notion/collection.py:238\u001b[39m, in \u001b[36mCollection.query\u001b[39m\u001b[34m(self, **kwargs)\u001b[39m\n\u001b[32m    235\u001b[39m \u001b[38;5;28;01mdef\u001b[39;00m\u001b[38;5;250m \u001b[39m\u001b[34mquery\u001b[39m(\u001b[38;5;28mself\u001b[39m, **kwargs):\n\u001b[32m    236\u001b[39m     \u001b[38;5;28;01mreturn\u001b[39;00m \u001b[43mCollectionQuery\u001b[49m\u001b[43m(\u001b[49m\n\u001b[32m    237\u001b[39m \u001b[43m        \u001b[49m\u001b[38;5;28;43mself\u001b[39;49m\u001b[43m,\u001b[49m\u001b[43m \u001b[49m\u001b[38;5;28;43mself\u001b[39;49m\u001b[43m.\u001b[49m\u001b[43m_get_a_collection_view\u001b[49m\u001b[43m(\u001b[49m\u001b[43m)\u001b[49m\u001b[43m,\u001b[49m\u001b[43m \u001b[49m\u001b[43mspace_id\u001b[49m\u001b[43m=\u001b[49m\u001b[38;5;28;43mself\u001b[39;49m\u001b[43m.\u001b[49m\u001b[43mget\u001b[49m\u001b[43m(\u001b[49m\u001b[33;43m\"\u001b[39;49m\u001b[33;43mspace_id\u001b[39;49m\u001b[33;43m\"\u001b[39;49m\u001b[43m)\u001b[49m\u001b[43m,\u001b[49m\u001b[43m \u001b[49m\u001b[43m*\u001b[49m\u001b[43m*\u001b[49m\u001b[43mkwargs\u001b[49m\n\u001b[32m--> \u001b[39m\u001b[32m238\u001b[39m \u001b[43m    \u001b[49m\u001b[43m)\u001b[49m\u001b[43m.\u001b[49m\u001b[43mexecute\u001b[49m\u001b[43m(\u001b[49m\u001b[43m)\u001b[49m\n",
      "\u001b[36mFile \u001b[39m\u001b[32m~/Documents/Projects/notion-py/notion/collection.py:418\u001b[39m, in \u001b[36mCollectionQuery.execute\u001b[39m\u001b[34m(self)\u001b[39m\n\u001b[32m    412\u001b[39m     \u001b[38;5;28mself\u001b[39m.limit = result.get(\u001b[33m\"\u001b[39m\u001b[33mtotal\u001b[39m\u001b[33m\"\u001b[39m,-\u001b[32m1\u001b[39m)\n\u001b[32m    414\u001b[39m kwargs[\u001b[33m'\u001b[39m\u001b[33mlimit\u001b[39m\u001b[33m'\u001b[39m] = \u001b[38;5;28mself\u001b[39m.limit\n\u001b[32m    416\u001b[39m \u001b[38;5;28;01mreturn\u001b[39;00m result_class(\n\u001b[32m    417\u001b[39m     \u001b[38;5;28mself\u001b[39m.collection,\n\u001b[32m--> \u001b[39m\u001b[32m418\u001b[39m     \u001b[38;5;28;43mself\u001b[39;49m\u001b[43m.\u001b[49m\u001b[43m_client\u001b[49m\u001b[43m.\u001b[49m\u001b[43mquery_collection\u001b[49m\u001b[43m(\u001b[49m\n\u001b[32m    419\u001b[39m \u001b[43m        \u001b[49m\u001b[43m*\u001b[49m\u001b[43m*\u001b[49m\u001b[43mkwargs\u001b[49m\n\u001b[32m    420\u001b[39m \u001b[43m    \u001b[49m\u001b[43m)\u001b[49m,\n\u001b[32m    421\u001b[39m     \u001b[38;5;28mself\u001b[39m,\n\u001b[32m    422\u001b[39m )\n",
      "\u001b[36mFile \u001b[39m\u001b[32m~/Documents/Projects/notion-py/notion/client.py:294\u001b[39m, in \u001b[36mNotionClient.query_collection\u001b[39m\u001b[34m(self, *args, **kwargs)\u001b[39m\n\u001b[32m    293\u001b[39m \u001b[38;5;28;01mdef\u001b[39;00m\u001b[38;5;250m \u001b[39m\u001b[34mquery_collection\u001b[39m(\u001b[38;5;28mself\u001b[39m, *args, **kwargs):\n\u001b[32m--> \u001b[39m\u001b[32m294\u001b[39m     \u001b[38;5;28;01mreturn\u001b[39;00m \u001b[38;5;28;43mself\u001b[39;49m\u001b[43m.\u001b[49m\u001b[43m_store\u001b[49m\u001b[43m.\u001b[49m\u001b[43mcall_query_collection\u001b[49m\u001b[43m(\u001b[49m\u001b[43m*\u001b[49m\u001b[43margs\u001b[49m\u001b[43m,\u001b[49m\u001b[43m \u001b[49m\u001b[43m*\u001b[49m\u001b[43m*\u001b[49m\u001b[43mkwargs\u001b[49m\u001b[43m)\u001b[49m\n",
      "\u001b[36mFile \u001b[39m\u001b[32m~/Documents/Projects/notion-py/notion/store.py:360\u001b[39m, in \u001b[36mRecordStore.call_query_collection\u001b[39m\u001b[34m(self, collection_id, collection_view_id, space_id, search, type, aggregate, aggregations, filter, sort, calendar_by, group_by, limit)\u001b[39m\n\u001b[32m    357\u001b[39m \u001b[38;5;28;01mif\u001b[39;00m aggregations:\n\u001b[32m    358\u001b[39m     data[\u001b[33m\"\u001b[39m\u001b[33mloader\u001b[39m\u001b[33m\"\u001b[39m][\u001b[33m\"\u001b[39m\u001b[33maggregations\u001b[39m\u001b[33m\"\u001b[39m] = aggregations\n\u001b[32m--> \u001b[39m\u001b[32m360\u001b[39m response = \u001b[38;5;28;43mself\u001b[39;49m\u001b[43m.\u001b[49m\u001b[43m_client\u001b[49m\u001b[43m.\u001b[49m\u001b[43mpost\u001b[49m\u001b[43m(\u001b[49m\u001b[33;43m\"\u001b[39;49m\u001b[33;43mqueryCollection\u001b[39;49m\u001b[33;43m\"\u001b[39;49m\u001b[43m,\u001b[49m\u001b[43m \u001b[49m\u001b[43mdata\u001b[49m\u001b[43m)\u001b[49m.json()\n\u001b[32m    362\u001b[39m \u001b[38;5;28mself\u001b[39m.store_recordmap(response[\u001b[33m\"\u001b[39m\u001b[33mrecordMap\u001b[39m\u001b[33m\"\u001b[39m])\n\u001b[32m    364\u001b[39m \u001b[38;5;28;01mreturn\u001b[39;00m response[\u001b[33m\"\u001b[39m\u001b[33mresult\u001b[39m\u001b[33m\"\u001b[39m]\n",
      "\u001b[36mFile \u001b[39m\u001b[32m~/Documents/Projects/notion-py/notion/client.py:260\u001b[39m, in \u001b[36mNotionClient.post\u001b[39m\u001b[34m(self, endpoint, data)\u001b[39m\n\u001b[32m    254\u001b[39m \u001b[38;5;28;01mif\u001b[39;00m response.status_code == \u001b[32m400\u001b[39m:\n\u001b[32m    255\u001b[39m     logger.error(\n\u001b[32m    256\u001b[39m         \u001b[33m\"\u001b[39m\u001b[33mGot 400 error attempting to POST to \u001b[39m\u001b[38;5;132;01m{}\u001b[39;00m\u001b[33m, with data: \u001b[39m\u001b[38;5;132;01m{}\u001b[39;00m\u001b[33m\"\u001b[39m.format(\n\u001b[32m    257\u001b[39m             endpoint, json.dumps(data, indent=\u001b[32m2\u001b[39m)\n\u001b[32m    258\u001b[39m         )\n\u001b[32m    259\u001b[39m     )\n\u001b[32m--> \u001b[39m\u001b[32m260\u001b[39m     \u001b[38;5;28;01mraise\u001b[39;00m HTTPError(\n\u001b[32m    261\u001b[39m         response.json().get(\n\u001b[32m    262\u001b[39m             \u001b[33m\"\u001b[39m\u001b[33mmessage\u001b[39m\u001b[33m\"\u001b[39m, \u001b[33m\"\u001b[39m\u001b[33mThere was an error (400) submitting the request.\u001b[39m\u001b[33m\"\u001b[39m\n\u001b[32m    263\u001b[39m         )\n\u001b[32m    264\u001b[39m     )\n\u001b[32m    265\u001b[39m response.raise_for_status()\n\u001b[32m    266\u001b[39m \u001b[38;5;28;01mreturn\u001b[39;00m response\n",
      "\u001b[31mHTTPError\u001b[39m: Something went wrong. (400)"
     ]
    }
   ],
   "source": [
    "\n",
    "# query the collection directly\n",
    "assert row1 in cvb.collection.get_rows(search=special_code)\n",
    "assert row2 not in cvb.collection.get_rows(search=special_code)\n",
    "assert row1 not in cvb.collection.get_rows(search=\"penguins\")\n",
    "assert row2 in cvb.collection.get_rows(search=\"penguins\")\n"
   ]
  },
  {
   "cell_type": "code",
   "execution_count": 38,
   "metadata": {},
   "outputs": [
    {
     "ename": "HTTPError",
     "evalue": "Something went wrong. (400)",
     "output_type": "error",
     "traceback": [
      "\u001b[31m---------------------------------------------------------------------------\u001b[39m",
      "\u001b[31mHTTPError\u001b[39m                                 Traceback (most recent call last)",
      "\u001b[36mCell\u001b[39m\u001b[36m \u001b[39m\u001b[32mIn[38]\u001b[39m\u001b[32m, line 2\u001b[39m\n\u001b[32m      1\u001b[39m \u001b[38;5;66;03m# search the entire space\u001b[39;00m\n\u001b[32m----> \u001b[39m\u001b[32m2\u001b[39m \u001b[38;5;28;01massert\u001b[39;00m row1 \u001b[38;5;129;01min\u001b[39;00m \u001b[43mclient\u001b[49m\u001b[43m.\u001b[49m\u001b[43msearch_blocks\u001b[49m\u001b[43m(\u001b[49m\u001b[43msearch\u001b[49m\u001b[43m=\u001b[49m\u001b[43mspecial_code\u001b[49m\u001b[43m)\u001b[49m\n\u001b[32m      3\u001b[39m \u001b[38;5;28;01massert\u001b[39;00m row1 \u001b[38;5;129;01mnot\u001b[39;00m \u001b[38;5;129;01min\u001b[39;00m client.search_blocks(search=\u001b[33m\"\u001b[39m\u001b[33mpenguins\u001b[39m\u001b[33m\"\u001b[39m)\n\u001b[32m      4\u001b[39m \u001b[38;5;28;01massert\u001b[39;00m row2 \u001b[38;5;129;01mnot\u001b[39;00m \u001b[38;5;129;01min\u001b[39;00m client.search_blocks(search=special_code)\n",
      "\u001b[36mFile \u001b[39m\u001b[32m~/Documents/Projects/notion-py/notion/client.py:321\u001b[39m, in \u001b[36mNotionClient.search_blocks\u001b[39m\u001b[34m(self, search, limit)\u001b[39m\n\u001b[32m    320\u001b[39m \u001b[38;5;28;01mdef\u001b[39;00m\u001b[38;5;250m \u001b[39m\u001b[34msearch_blocks\u001b[39m(\u001b[38;5;28mself\u001b[39m, search, limit=\u001b[32m25\u001b[39m):\n\u001b[32m--> \u001b[39m\u001b[32m321\u001b[39m     \u001b[38;5;28;01mreturn\u001b[39;00m \u001b[38;5;28;43mself\u001b[39;49m\u001b[43m.\u001b[49m\u001b[43msearch\u001b[49m\u001b[43m(\u001b[49m\u001b[43mquery\u001b[49m\u001b[43m=\u001b[49m\u001b[43msearch\u001b[49m\u001b[43m,\u001b[49m\u001b[43m \u001b[49m\u001b[43mlimit\u001b[49m\u001b[43m=\u001b[49m\u001b[43mlimit\u001b[49m\u001b[43m)\u001b[49m\n",
      "\u001b[36mFile \u001b[39m\u001b[32m~/Documents/Projects/notion-py/notion/client.py:359\u001b[39m, in \u001b[36mNotionClient.search\u001b[39m\u001b[34m(self, query, search_type, limit, sort, source, isDeletedOnly, excludeTemplates, isNavigableOnly, requireEditPermissions, ancestors, createdBy, editedBy, lastEditedTime, createdTime)\u001b[39m\n\u001b[32m    323\u001b[39m \u001b[38;5;28;01mdef\u001b[39;00m\u001b[38;5;250m \u001b[39m\u001b[34msearch\u001b[39m(\n\u001b[32m    324\u001b[39m     \u001b[38;5;28mself\u001b[39m,\n\u001b[32m    325\u001b[39m     query=\u001b[33m\"\u001b[39m\u001b[33m\"\u001b[39m,\n\u001b[32m   (...)\u001b[39m\u001b[32m    338\u001b[39m     createdTime={},\n\u001b[32m    339\u001b[39m ):\n\u001b[32m    340\u001b[39m     data = {\n\u001b[32m    341\u001b[39m         \u001b[33m\"\u001b[39m\u001b[33mtype\u001b[39m\u001b[33m\"\u001b[39m: search_type,\n\u001b[32m    342\u001b[39m         \u001b[33m\"\u001b[39m\u001b[33mquery\u001b[39m\u001b[33m\"\u001b[39m: query,\n\u001b[32m   (...)\u001b[39m\u001b[32m    357\u001b[39m         \u001b[33m\"\u001b[39m\u001b[33msource\u001b[39m\u001b[33m\"\u001b[39m: source,\n\u001b[32m    358\u001b[39m     }\n\u001b[32m--> \u001b[39m\u001b[32m359\u001b[39m     response = \u001b[38;5;28;43mself\u001b[39;49m\u001b[43m.\u001b[49m\u001b[43mpost\u001b[49m\u001b[43m(\u001b[49m\u001b[33;43m\"\u001b[39;49m\u001b[33;43msearch\u001b[39;49m\u001b[33;43m\"\u001b[39;49m\u001b[43m,\u001b[49m\u001b[43m \u001b[49m\u001b[43mdata\u001b[49m\u001b[43m)\u001b[49m.json()\n\u001b[32m    360\u001b[39m     \u001b[38;5;28mself\u001b[39m._store.store_recordmap(response[\u001b[33m\"\u001b[39m\u001b[33mrecordMap\u001b[39m\u001b[33m\"\u001b[39m])\n\u001b[32m    361\u001b[39m     \u001b[38;5;28;01mreturn\u001b[39;00m [\u001b[38;5;28mself\u001b[39m.get_block(result[\u001b[33m\"\u001b[39m\u001b[33mid\u001b[39m\u001b[33m\"\u001b[39m]) \u001b[38;5;28;01mfor\u001b[39;00m result \u001b[38;5;129;01min\u001b[39;00m response[\u001b[33m\"\u001b[39m\u001b[33mresults\u001b[39m\u001b[33m\"\u001b[39m]]\n",
      "\u001b[36mFile \u001b[39m\u001b[32m~/Documents/Projects/notion-py/notion/client.py:260\u001b[39m, in \u001b[36mNotionClient.post\u001b[39m\u001b[34m(self, endpoint, data)\u001b[39m\n\u001b[32m    254\u001b[39m \u001b[38;5;28;01mif\u001b[39;00m response.status_code == \u001b[32m400\u001b[39m:\n\u001b[32m    255\u001b[39m     logger.error(\n\u001b[32m    256\u001b[39m         \u001b[33m\"\u001b[39m\u001b[33mGot 400 error attempting to POST to \u001b[39m\u001b[38;5;132;01m{}\u001b[39;00m\u001b[33m, with data: \u001b[39m\u001b[38;5;132;01m{}\u001b[39;00m\u001b[33m\"\u001b[39m.format(\n\u001b[32m    257\u001b[39m             endpoint, json.dumps(data, indent=\u001b[32m2\u001b[39m)\n\u001b[32m    258\u001b[39m         )\n\u001b[32m    259\u001b[39m     )\n\u001b[32m--> \u001b[39m\u001b[32m260\u001b[39m     \u001b[38;5;28;01mraise\u001b[39;00m HTTPError(\n\u001b[32m    261\u001b[39m         response.json().get(\n\u001b[32m    262\u001b[39m             \u001b[33m\"\u001b[39m\u001b[33mmessage\u001b[39m\u001b[33m\"\u001b[39m, \u001b[33m\"\u001b[39m\u001b[33mThere was an error (400) submitting the request.\u001b[39m\u001b[33m\"\u001b[39m\n\u001b[32m    263\u001b[39m         )\n\u001b[32m    264\u001b[39m     )\n\u001b[32m    265\u001b[39m response.raise_for_status()\n\u001b[32m    266\u001b[39m \u001b[38;5;28;01mreturn\u001b[39;00m response\n",
      "\u001b[31mHTTPError\u001b[39m: Something went wrong. (400)"
     ]
    }
   ],
   "source": [
    "\n",
    "# search the entire space\n",
    "assert row1 in client.search_blocks(search=special_code)\n",
    "assert row1 not in client.search_blocks(search=\"penguins\")\n",
    "assert row2 not in client.search_blocks(search=special_code)\n",
    "assert row2 in client.search_blocks(search=\"penguins\")\n"
   ]
  },
  {
   "cell_type": "code",
   "execution_count": 39,
   "metadata": {},
   "outputs": [
    {
     "ename": "HTTPError",
     "evalue": "Something went wrong. (400)",
     "output_type": "error",
     "traceback": [
      "\u001b[31m---------------------------------------------------------------------------\u001b[39m",
      "\u001b[31mHTTPError\u001b[39m                                 Traceback (most recent call last)",
      "\u001b[36mCell\u001b[39m\u001b[36m \u001b[39m\u001b[32mIn[39]\u001b[39m\u001b[32m, line 5\u001b[39m\n\u001b[32m      1\u001b[39m \u001b[38;5;66;03m# Run an \"aggregation\" query\u001b[39;00m\n\u001b[32m      2\u001b[39m aggregations = [\n\u001b[32m      3\u001b[39m \t{\u001b[33m\"\u001b[39m\u001b[33mproperty\u001b[39m\u001b[33m\"\u001b[39m: \u001b[33m\"\u001b[39m\u001b[33mestimated_value\u001b[39m\u001b[33m\"\u001b[39m, \u001b[33m\"\u001b[39m\u001b[33maggregator\u001b[39m\u001b[33m\"\u001b[39m: \u001b[33m\"\u001b[39m\u001b[33msum\u001b[39m\u001b[33m\"\u001b[39m, \u001b[33m\"\u001b[39m\u001b[33mid\u001b[39m\u001b[33m\"\u001b[39m: \u001b[33m\"\u001b[39m\u001b[33mtotal_value\u001b[39m\u001b[33m\"\u001b[39m}\n\u001b[32m      4\u001b[39m ]\n\u001b[32m----> \u001b[39m\u001b[32m5\u001b[39m result = \u001b[43mview\u001b[49m\u001b[43m.\u001b[49m\u001b[43mbuild_query\u001b[49m\u001b[43m(\u001b[49m\u001b[43maggregations\u001b[49m\u001b[43m=\u001b[49m\u001b[43maggregations\u001b[49m\u001b[43m)\u001b[49m\u001b[43m.\u001b[49m\u001b[43mexecute\u001b[49m\u001b[43m(\u001b[49m\u001b[43m)\u001b[49m\n\u001b[32m      6\u001b[39m \u001b[38;5;28;01massert\u001b[39;00m result.get_aggregate(\u001b[33m\"\u001b[39m\u001b[33mtotal_value\u001b[39m\u001b[33m\"\u001b[39m) == \u001b[32m64\u001b[39m\n",
      "\u001b[36mFile \u001b[39m\u001b[32m~/Documents/Projects/notion-py/notion/collection.py:418\u001b[39m, in \u001b[36mCollectionQuery.execute\u001b[39m\u001b[34m(self)\u001b[39m\n\u001b[32m    412\u001b[39m     \u001b[38;5;28mself\u001b[39m.limit = result.get(\u001b[33m\"\u001b[39m\u001b[33mtotal\u001b[39m\u001b[33m\"\u001b[39m,-\u001b[32m1\u001b[39m)\n\u001b[32m    414\u001b[39m kwargs[\u001b[33m'\u001b[39m\u001b[33mlimit\u001b[39m\u001b[33m'\u001b[39m] = \u001b[38;5;28mself\u001b[39m.limit\n\u001b[32m    416\u001b[39m \u001b[38;5;28;01mreturn\u001b[39;00m result_class(\n\u001b[32m    417\u001b[39m     \u001b[38;5;28mself\u001b[39m.collection,\n\u001b[32m--> \u001b[39m\u001b[32m418\u001b[39m     \u001b[38;5;28;43mself\u001b[39;49m\u001b[43m.\u001b[49m\u001b[43m_client\u001b[49m\u001b[43m.\u001b[49m\u001b[43mquery_collection\u001b[49m\u001b[43m(\u001b[49m\n\u001b[32m    419\u001b[39m \u001b[43m        \u001b[49m\u001b[43m*\u001b[49m\u001b[43m*\u001b[49m\u001b[43mkwargs\u001b[49m\n\u001b[32m    420\u001b[39m \u001b[43m    \u001b[49m\u001b[43m)\u001b[49m,\n\u001b[32m    421\u001b[39m     \u001b[38;5;28mself\u001b[39m,\n\u001b[32m    422\u001b[39m )\n",
      "\u001b[36mFile \u001b[39m\u001b[32m~/Documents/Projects/notion-py/notion/client.py:294\u001b[39m, in \u001b[36mNotionClient.query_collection\u001b[39m\u001b[34m(self, *args, **kwargs)\u001b[39m\n\u001b[32m    293\u001b[39m \u001b[38;5;28;01mdef\u001b[39;00m\u001b[38;5;250m \u001b[39m\u001b[34mquery_collection\u001b[39m(\u001b[38;5;28mself\u001b[39m, *args, **kwargs):\n\u001b[32m--> \u001b[39m\u001b[32m294\u001b[39m     \u001b[38;5;28;01mreturn\u001b[39;00m \u001b[38;5;28;43mself\u001b[39;49m\u001b[43m.\u001b[49m\u001b[43m_store\u001b[49m\u001b[43m.\u001b[49m\u001b[43mcall_query_collection\u001b[49m\u001b[43m(\u001b[49m\u001b[43m*\u001b[49m\u001b[43margs\u001b[49m\u001b[43m,\u001b[49m\u001b[43m \u001b[49m\u001b[43m*\u001b[49m\u001b[43m*\u001b[49m\u001b[43mkwargs\u001b[49m\u001b[43m)\u001b[49m\n",
      "\u001b[36mFile \u001b[39m\u001b[32m~/Documents/Projects/notion-py/notion/store.py:360\u001b[39m, in \u001b[36mRecordStore.call_query_collection\u001b[39m\u001b[34m(self, collection_id, collection_view_id, space_id, search, type, aggregate, aggregations, filter, sort, calendar_by, group_by, limit)\u001b[39m\n\u001b[32m    357\u001b[39m \u001b[38;5;28;01mif\u001b[39;00m aggregations:\n\u001b[32m    358\u001b[39m     data[\u001b[33m\"\u001b[39m\u001b[33mloader\u001b[39m\u001b[33m\"\u001b[39m][\u001b[33m\"\u001b[39m\u001b[33maggregations\u001b[39m\u001b[33m\"\u001b[39m] = aggregations\n\u001b[32m--> \u001b[39m\u001b[32m360\u001b[39m response = \u001b[38;5;28;43mself\u001b[39;49m\u001b[43m.\u001b[49m\u001b[43m_client\u001b[49m\u001b[43m.\u001b[49m\u001b[43mpost\u001b[49m\u001b[43m(\u001b[49m\u001b[33;43m\"\u001b[39;49m\u001b[33;43mqueryCollection\u001b[39;49m\u001b[33;43m\"\u001b[39;49m\u001b[43m,\u001b[49m\u001b[43m \u001b[49m\u001b[43mdata\u001b[49m\u001b[43m)\u001b[49m.json()\n\u001b[32m    362\u001b[39m \u001b[38;5;28mself\u001b[39m.store_recordmap(response[\u001b[33m\"\u001b[39m\u001b[33mrecordMap\u001b[39m\u001b[33m\"\u001b[39m])\n\u001b[32m    364\u001b[39m \u001b[38;5;28;01mreturn\u001b[39;00m response[\u001b[33m\"\u001b[39m\u001b[33mresult\u001b[39m\u001b[33m\"\u001b[39m]\n",
      "\u001b[36mFile \u001b[39m\u001b[32m~/Documents/Projects/notion-py/notion/client.py:260\u001b[39m, in \u001b[36mNotionClient.post\u001b[39m\u001b[34m(self, endpoint, data)\u001b[39m\n\u001b[32m    254\u001b[39m \u001b[38;5;28;01mif\u001b[39;00m response.status_code == \u001b[32m400\u001b[39m:\n\u001b[32m    255\u001b[39m     logger.error(\n\u001b[32m    256\u001b[39m         \u001b[33m\"\u001b[39m\u001b[33mGot 400 error attempting to POST to \u001b[39m\u001b[38;5;132;01m{}\u001b[39;00m\u001b[33m, with data: \u001b[39m\u001b[38;5;132;01m{}\u001b[39;00m\u001b[33m\"\u001b[39m.format(\n\u001b[32m    257\u001b[39m             endpoint, json.dumps(data, indent=\u001b[32m2\u001b[39m)\n\u001b[32m    258\u001b[39m         )\n\u001b[32m    259\u001b[39m     )\n\u001b[32m--> \u001b[39m\u001b[32m260\u001b[39m     \u001b[38;5;28;01mraise\u001b[39;00m HTTPError(\n\u001b[32m    261\u001b[39m         response.json().get(\n\u001b[32m    262\u001b[39m             \u001b[33m\"\u001b[39m\u001b[33mmessage\u001b[39m\u001b[33m\"\u001b[39m, \u001b[33m\"\u001b[39m\u001b[33mThere was an error (400) submitting the request.\u001b[39m\u001b[33m\"\u001b[39m\n\u001b[32m    263\u001b[39m         )\n\u001b[32m    264\u001b[39m     )\n\u001b[32m    265\u001b[39m response.raise_for_status()\n\u001b[32m    266\u001b[39m \u001b[38;5;28;01mreturn\u001b[39;00m response\n",
      "\u001b[31mHTTPError\u001b[39m: Something went wrong. (400)"
     ]
    }
   ],
   "source": [
    "\n",
    "# Run an \"aggregation\" query\n",
    "aggregations = [\n",
    "\t{\"property\": \"estimated_value\", \"aggregator\": \"sum\", \"id\": \"total_value\"}\n",
    "]\n",
    "result = view.build_query(aggregations=aggregations).execute()\n",
    "assert result.get_aggregate(\"total_value\") == 64\n"
   ]
  },
  {
   "cell_type": "code",
   "execution_count": 40,
   "metadata": {},
   "outputs": [
    {
     "ename": "HTTPError",
     "evalue": "Something went wrong. (400)",
     "output_type": "error",
     "traceback": [
      "\u001b[31m---------------------------------------------------------------------------\u001b[39m",
      "\u001b[31mHTTPError\u001b[39m                                 Traceback (most recent call last)",
      "\u001b[36mCell\u001b[39m\u001b[36m \u001b[39m\u001b[32mIn[40]\u001b[39m\u001b[32m, line 17\u001b[39m\n\u001b[32m      1\u001b[39m \u001b[38;5;66;03m# Run a \"filtered\" query\u001b[39;00m\n\u001b[32m      2\u001b[39m filter_params = {\n\u001b[32m      3\u001b[39m \t\u001b[33m\"\u001b[39m\u001b[33mfilters\u001b[39m\u001b[33m\"\u001b[39m: [\n\u001b[32m      4\u001b[39m \t\t{\n\u001b[32m   (...)\u001b[39m\u001b[32m     15\u001b[39m \t\u001b[33m\"\u001b[39m\u001b[33moperator\u001b[39m\u001b[33m\"\u001b[39m: \u001b[33m\"\u001b[39m\u001b[33mand\u001b[39m\u001b[33m\"\u001b[39m,\n\u001b[32m     16\u001b[39m }\n\u001b[32m---> \u001b[39m\u001b[32m17\u001b[39m result = \u001b[43mview\u001b[49m\u001b[43m.\u001b[49m\u001b[43mbuild_query\u001b[49m\u001b[43m(\u001b[49m\u001b[38;5;28;43mfilter\u001b[39;49m\u001b[43m=\u001b[49m\u001b[43mfilter_params\u001b[49m\u001b[43m)\u001b[49m\u001b[43m.\u001b[49m\u001b[43mexecute\u001b[49m\u001b[43m(\u001b[49m\u001b[43m)\u001b[49m\n\u001b[32m     18\u001b[39m \u001b[38;5;28;01massert\u001b[39;00m row1 \u001b[38;5;129;01min\u001b[39;00m result\n\u001b[32m     19\u001b[39m \u001b[38;5;28;01massert\u001b[39;00m row2 \u001b[38;5;129;01mnot\u001b[39;00m \u001b[38;5;129;01min\u001b[39;00m result\n",
      "\u001b[36mFile \u001b[39m\u001b[32m~/Documents/Projects/notion-py/notion/collection.py:418\u001b[39m, in \u001b[36mCollectionQuery.execute\u001b[39m\u001b[34m(self)\u001b[39m\n\u001b[32m    412\u001b[39m     \u001b[38;5;28mself\u001b[39m.limit = result.get(\u001b[33m\"\u001b[39m\u001b[33mtotal\u001b[39m\u001b[33m\"\u001b[39m,-\u001b[32m1\u001b[39m)\n\u001b[32m    414\u001b[39m kwargs[\u001b[33m'\u001b[39m\u001b[33mlimit\u001b[39m\u001b[33m'\u001b[39m] = \u001b[38;5;28mself\u001b[39m.limit\n\u001b[32m    416\u001b[39m \u001b[38;5;28;01mreturn\u001b[39;00m result_class(\n\u001b[32m    417\u001b[39m     \u001b[38;5;28mself\u001b[39m.collection,\n\u001b[32m--> \u001b[39m\u001b[32m418\u001b[39m     \u001b[38;5;28;43mself\u001b[39;49m\u001b[43m.\u001b[49m\u001b[43m_client\u001b[49m\u001b[43m.\u001b[49m\u001b[43mquery_collection\u001b[49m\u001b[43m(\u001b[49m\n\u001b[32m    419\u001b[39m \u001b[43m        \u001b[49m\u001b[43m*\u001b[49m\u001b[43m*\u001b[49m\u001b[43mkwargs\u001b[49m\n\u001b[32m    420\u001b[39m \u001b[43m    \u001b[49m\u001b[43m)\u001b[49m,\n\u001b[32m    421\u001b[39m     \u001b[38;5;28mself\u001b[39m,\n\u001b[32m    422\u001b[39m )\n",
      "\u001b[36mFile \u001b[39m\u001b[32m~/Documents/Projects/notion-py/notion/client.py:294\u001b[39m, in \u001b[36mNotionClient.query_collection\u001b[39m\u001b[34m(self, *args, **kwargs)\u001b[39m\n\u001b[32m    293\u001b[39m \u001b[38;5;28;01mdef\u001b[39;00m\u001b[38;5;250m \u001b[39m\u001b[34mquery_collection\u001b[39m(\u001b[38;5;28mself\u001b[39m, *args, **kwargs):\n\u001b[32m--> \u001b[39m\u001b[32m294\u001b[39m     \u001b[38;5;28;01mreturn\u001b[39;00m \u001b[38;5;28;43mself\u001b[39;49m\u001b[43m.\u001b[49m\u001b[43m_store\u001b[49m\u001b[43m.\u001b[49m\u001b[43mcall_query_collection\u001b[49m\u001b[43m(\u001b[49m\u001b[43m*\u001b[49m\u001b[43margs\u001b[49m\u001b[43m,\u001b[49m\u001b[43m \u001b[49m\u001b[43m*\u001b[49m\u001b[43m*\u001b[49m\u001b[43mkwargs\u001b[49m\u001b[43m)\u001b[49m\n",
      "\u001b[36mFile \u001b[39m\u001b[32m~/Documents/Projects/notion-py/notion/store.py:360\u001b[39m, in \u001b[36mRecordStore.call_query_collection\u001b[39m\u001b[34m(self, collection_id, collection_view_id, space_id, search, type, aggregate, aggregations, filter, sort, calendar_by, group_by, limit)\u001b[39m\n\u001b[32m    357\u001b[39m \u001b[38;5;28;01mif\u001b[39;00m aggregations:\n\u001b[32m    358\u001b[39m     data[\u001b[33m\"\u001b[39m\u001b[33mloader\u001b[39m\u001b[33m\"\u001b[39m][\u001b[33m\"\u001b[39m\u001b[33maggregations\u001b[39m\u001b[33m\"\u001b[39m] = aggregations\n\u001b[32m--> \u001b[39m\u001b[32m360\u001b[39m response = \u001b[38;5;28;43mself\u001b[39;49m\u001b[43m.\u001b[49m\u001b[43m_client\u001b[49m\u001b[43m.\u001b[49m\u001b[43mpost\u001b[49m\u001b[43m(\u001b[49m\u001b[33;43m\"\u001b[39;49m\u001b[33;43mqueryCollection\u001b[39;49m\u001b[33;43m\"\u001b[39;49m\u001b[43m,\u001b[49m\u001b[43m \u001b[49m\u001b[43mdata\u001b[49m\u001b[43m)\u001b[49m.json()\n\u001b[32m    362\u001b[39m \u001b[38;5;28mself\u001b[39m.store_recordmap(response[\u001b[33m\"\u001b[39m\u001b[33mrecordMap\u001b[39m\u001b[33m\"\u001b[39m])\n\u001b[32m    364\u001b[39m \u001b[38;5;28;01mreturn\u001b[39;00m response[\u001b[33m\"\u001b[39m\u001b[33mresult\u001b[39m\u001b[33m\"\u001b[39m]\n",
      "\u001b[36mFile \u001b[39m\u001b[32m~/Documents/Projects/notion-py/notion/client.py:260\u001b[39m, in \u001b[36mNotionClient.post\u001b[39m\u001b[34m(self, endpoint, data)\u001b[39m\n\u001b[32m    254\u001b[39m \u001b[38;5;28;01mif\u001b[39;00m response.status_code == \u001b[32m400\u001b[39m:\n\u001b[32m    255\u001b[39m     logger.error(\n\u001b[32m    256\u001b[39m         \u001b[33m\"\u001b[39m\u001b[33mGot 400 error attempting to POST to \u001b[39m\u001b[38;5;132;01m{}\u001b[39;00m\u001b[33m, with data: \u001b[39m\u001b[38;5;132;01m{}\u001b[39;00m\u001b[33m\"\u001b[39m.format(\n\u001b[32m    257\u001b[39m             endpoint, json.dumps(data, indent=\u001b[32m2\u001b[39m)\n\u001b[32m    258\u001b[39m         )\n\u001b[32m    259\u001b[39m     )\n\u001b[32m--> \u001b[39m\u001b[32m260\u001b[39m     \u001b[38;5;28;01mraise\u001b[39;00m HTTPError(\n\u001b[32m    261\u001b[39m         response.json().get(\n\u001b[32m    262\u001b[39m             \u001b[33m\"\u001b[39m\u001b[33mmessage\u001b[39m\u001b[33m\"\u001b[39m, \u001b[33m\"\u001b[39m\u001b[33mThere was an error (400) submitting the request.\u001b[39m\u001b[33m\"\u001b[39m\n\u001b[32m    263\u001b[39m         )\n\u001b[32m    264\u001b[39m     )\n\u001b[32m    265\u001b[39m response.raise_for_status()\n\u001b[32m    266\u001b[39m \u001b[38;5;28;01mreturn\u001b[39;00m response\n",
      "\u001b[31mHTTPError\u001b[39m: Something went wrong. (400)"
     ]
    }
   ],
   "source": [
    "\n",
    "# Run a \"filtered\" query\n",
    "filter_params = {\n",
    "\t\"filters\": [\n",
    "\t\t{\n",
    "\t\t\t\"filter\": {\n",
    "\t\t\t\t\"value\": {\n",
    "\t\t\t\t\t\"type\": \"exact\",\n",
    "\t\t\t\t\t\"value\": {\"table\": \"notion_user\", \"id\": client.current_user.id},\n",
    "\t\t\t\t},\n",
    "\t\t\t\t\"operator\": \"person_does_not_contain\",\n",
    "\t\t\t},\n",
    "\t\t\t\"property\": \"person\",\n",
    "\t\t}\n",
    "\t],\n",
    "\t\"operator\": \"and\",\n",
    "}\n",
    "result = view.build_query(filter=filter_params).execute()\n",
    "assert row1 in result\n",
    "assert row2 not in result\n"
   ]
  },
  {
   "cell_type": "code",
   "execution_count": null,
   "metadata": {},
   "outputs": [],
   "source": [
    "\n",
    "# Run a \"sorted\" query\n",
    "sort_params = [{\"direction\": \"ascending\", \"property\": \"estimated_value\"}]\n",
    "result = view.build_query(sort=sort_params).execute()\n",
    "assert row1 == result[1]\n",
    "assert row2 == result[0]\n"
   ]
  },
  {
   "cell_type": "markdown",
   "metadata": {},
   "source": [
    "#### Reminders and Time zones"
   ]
  },
  {
   "cell_type": "code",
   "execution_count": 41,
   "metadata": {},
   "outputs": [],
   "source": [
    "# Test that reminders and time zone's work properly\n",
    "row1.refresh()\n",
    "assert row1.some_date.start == start\n",
    "assert row1.some_date.end == end\n",
    "assert row1.some_date.timezone == timezone\n",
    "assert row1.some_date.reminder == reminder\n"
   ]
  },
  {
   "cell_type": "markdown",
   "metadata": {},
   "source": [
    "## Cleanup"
   ]
  },
  {
   "cell_type": "code",
   "execution_count": 42,
   "metadata": {},
   "outputs": [],
   "source": [
    "def _delete_page_fully(page):\n",
    "\n",
    "    id = page.id\n",
    "\n",
    "    parent_page = page.parent\n",
    "\n",
    "    assert page.get(\"alive\") == True\n",
    "    assert page in parent_page.children\n",
    "    page.remove()\n",
    "    assert page.get(\"alive\") == False\n",
    "    assert page not in parent_page.children\n",
    "\n",
    "    assert (\n",
    "        page.space_info\n",
    "    ), \"Page {} was fully deleted prematurely, as we can't get space info about it anymore\".format(\n",
    "        id\n",
    "    )\n",
    "\n",
    "    page.remove(permanently=True)\n",
    "\n",
    "    time.sleep(1)\n",
    "\n",
    "    assert (\n",
    "        not page.space_info\n",
    "    ), \"Page {} was not really fully deleted, as we can still get space info about it\".format(\n",
    "        id\n",
    "    )\n"
   ]
  },
  {
   "cell_type": "code",
   "execution_count": 43,
   "metadata": {},
   "outputs": [
    {
     "ename": "AssertionError",
     "evalue": "Page 62687725-47dd-4b36-8760-0f6dd5db5fd8 was not really fully deleted, as we can still get space info about it",
     "output_type": "error",
     "traceback": [
      "\u001b[31m---------------------------------------------------------------------------\u001b[39m",
      "\u001b[31mAssertionError\u001b[39m                            Traceback (most recent call last)",
      "\u001b[36mCell\u001b[39m\u001b[36m \u001b[39m\u001b[32mIn[43]\u001b[39m\u001b[32m, line 1\u001b[39m\n\u001b[32m----> \u001b[39m\u001b[32m1\u001b[39m \u001b[43m_delete_page_fully\u001b[49m\u001b[43m(\u001b[49m\u001b[43mpage\u001b[49m\u001b[43m)\u001b[49m\n",
      "\u001b[36mCell\u001b[39m\u001b[36m \u001b[39m\u001b[32mIn[42]\u001b[39m\u001b[32m, line 24\u001b[39m, in \u001b[36m_delete_page_fully\u001b[39m\u001b[34m(page)\u001b[39m\n\u001b[32m     19\u001b[39m page.remove(permanently=\u001b[38;5;28;01mTrue\u001b[39;00m)\n\u001b[32m     21\u001b[39m time.sleep(\u001b[32m1\u001b[39m)\n\u001b[32m     23\u001b[39m \u001b[38;5;28;01massert\u001b[39;00m (\n\u001b[32m---> \u001b[39m\u001b[32m24\u001b[39m     \u001b[38;5;129;01mnot\u001b[39;00m page.space_info\n\u001b[32m     25\u001b[39m ), \u001b[33m\"\u001b[39m\u001b[33mPage \u001b[39m\u001b[38;5;132;01m{}\u001b[39;00m\u001b[33m was not really fully deleted, as we can still get space info about it\u001b[39m\u001b[33m\"\u001b[39m.format(\n\u001b[32m     26\u001b[39m     \u001b[38;5;28mid\u001b[39m\n\u001b[32m     27\u001b[39m )\n",
      "\u001b[31mAssertionError\u001b[39m: Page 62687725-47dd-4b36-8760-0f6dd5db5fd8 was not really fully deleted, as we can still get space info about it"
     ]
    }
   ],
   "source": [
    "_delete_page_fully(page)"
   ]
  },
  {
   "cell_type": "code",
   "execution_count": null,
   "metadata": {},
   "outputs": [],
   "source": []
  }
 ],
 "metadata": {
  "kernelspec": {
   "display_name": ".venv",
   "language": "python",
   "name": "python3"
  },
  "language_info": {
   "codemirror_mode": {
    "name": "ipython",
    "version": 3
   },
   "file_extension": ".py",
   "mimetype": "text/x-python",
   "name": "python",
   "nbconvert_exporter": "python",
   "pygments_lexer": "ipython3",
   "version": "3.12.5"
  }
 },
 "nbformat": 4,
 "nbformat_minor": 2
}
